{
 "cells": [
  {
   "cell_type": "markdown",
   "id": "05bd2eb0-3e98-43b0-9317-eb5f734ddc3d",
   "metadata": {},
   "source": [
    "# By Justin Barry\n",
    "## https://watsontechworld.com"
   ]
  },
  {
   "cell_type": "code",
   "execution_count": 1,
   "id": "ac80bde1-445b-4fd6-b4c0-a4c8692db835",
   "metadata": {},
   "outputs": [],
   "source": [
    "# https://huggingface.co/openai/gpt-oss-20b\n",
    "# https://huggingface.co/openai/gpt-oss-120b"
   ]
  },
  {
   "cell_type": "markdown",
   "id": "208654c0-35c8-482f-bd69-b37fca28f0e8",
   "metadata": {},
   "source": [
    "This document will give examples of using the Hugging Face API with the gpt-oss new models from OpenAI.<br/>\n",
    "You can modify to use other models on Hugging Face as well. Make sure you get an API key. You can get a free API key to use for a few tries."
   ]
  },
  {
   "cell_type": "code",
   "execution_count": 2,
   "id": "9e2b021d-e057-425a-9993-89c9398517f4",
   "metadata": {},
   "outputs": [],
   "source": [
    "import os\n",
    "from openai import OpenAI\n",
    "from datetime import datetime"
   ]
  },
  {
   "cell_type": "markdown",
   "id": "70556d89-f851-426d-8f52-1ef529611952",
   "metadata": {},
   "source": [
    "# Step 1: make a Hugging Face account at huggingface.co"
   ]
  },
  {
   "cell_type": "markdown",
   "id": "679c3319-7d0c-44a9-ac12-8d725391ea97",
   "metadata": {},
   "source": [
    "# Step 2: Get an API key from Hugging Face"
   ]
  },
  {
   "cell_type": "markdown",
   "id": "e233919d-c192-437e-97b5-09754eb8f293",
   "metadata": {
    "jp-MarkdownHeadingCollapsed": true
   },
   "source": [
    "Get a key from huggingface at:<br/>\n",
    "https://huggingface.co/settings/tokens"
   ]
  },
  {
   "cell_type": "markdown",
   "id": "1ccb0b3e-ac68-4cea-8811-081f977c82c8",
   "metadata": {},
   "source": [
    "Copy the API key"
   ]
  },
  {
   "cell_type": "code",
   "execution_count": 3,
   "id": "ed66ba59-0e80-4bd6-b41f-a4b2725dadac",
   "metadata": {},
   "outputs": [],
   "source": [
    "# option 1: set the key here in Python\n",
    "huggingface_key = 'hf_YOUR_HUGGINGFACE_API_KEY'\n",
    "\n",
    "# option 2: set the key as an environment variable in a terminal and access it here\n",
    "# If you choose this, put something like this in a terminal (modify with your actual key):\n",
    "# export HF_TOKEN=\"hf_YOUR_HUGGINGFACE_API_KEY\"\n",
    "# to get from computer as an environment variable\n",
    "# huggingface_key = os.environ[\"HF_TOKEN\"]"
   ]
  },
  {
   "cell_type": "code",
   "execution_count": null,
   "id": "9e30c24d-3158-4c39-94c6-bc7a72277aaf",
   "metadata": {},
   "outputs": [],
   "source": []
  },
  {
   "cell_type": "markdown",
   "id": "8dcc3687-6ec2-429a-ae2a-f72bb64dab3a",
   "metadata": {},
   "source": [
    "# Get the code for Hugging Face for a given model\n",
    "Click on: <br/>\n",
    "Deploy -> Inference Providers<br/>\n",
    "Then choose the model name and provider you want."
   ]
  },
  {
   "cell_type": "code",
   "execution_count": null,
   "id": "c29a73f3-d584-46ad-bcc5-ff2c47f25e59",
   "metadata": {},
   "outputs": [],
   "source": []
  },
  {
   "cell_type": "markdown",
   "id": "d628aa2f-3295-42a1-983e-482e98161095",
   "metadata": {},
   "source": [
    "# Choose the model name on Hugging Face (it needs to match exactly)"
   ]
  },
  {
   "cell_type": "code",
   "execution_count": 4,
   "id": "a66d3060-1120-42c6-bfc1-c93fdaac1b6b",
   "metadata": {},
   "outputs": [],
   "source": [
    "# Below uses novita as the provider. Change the model as you like.\n",
    "\n",
    "# model=\"openai/gpt-oss-20b:novita\"\n",
    "model=\"openai/gpt-oss-120b:novita\""
   ]
  },
  {
   "cell_type": "code",
   "execution_count": 5,
   "id": "cec1e588-dc19-4ced-9130-8ad60c7894d7",
   "metadata": {},
   "outputs": [],
   "source": [
    "#prompt = \"\"\"Teach me how to start a successful email list for free from scratch. I will post videos on YouTube and other platforms\n",
    "#I will also have a website. I will eventually have a landing page for the email list. Help give me the best tips for successfully starting\n",
    "#and email list from scratch and make it realistic for getting over 100 subscribers over a year and give a plan.\n",
    "#\"\"\"\n",
    "\n",
    "# optionally read in prompt from a text file. If you do, make sure you edit the file custom_prompt.txt\n",
    "with open(\"custom_prompt.txt\", \"r\") as file:\n",
    "    prompt = file.read()"
   ]
  },
  {
   "cell_type": "code",
   "execution_count": 6,
   "id": "13d145dc-bf75-4a57-bfa8-d8751b66ad5f",
   "metadata": {},
   "outputs": [
    {
     "data": {
      "text/plain": [
       "'Teach me how to learn Japanese effectively and how to become fluent within 2-3 years.\\n'"
      ]
     },
     "execution_count": 6,
     "metadata": {},
     "output_type": "execute_result"
    }
   ],
   "source": [
    "prompt"
   ]
  },
  {
   "cell_type": "code",
   "execution_count": 7,
   "id": "c8917988-2975-43d4-b80a-24ba52d6916d",
   "metadata": {},
   "outputs": [],
   "source": [
    "client = OpenAI(\n",
    "    base_url=\"https://router.huggingface.co/v1\",\n",
    "    api_key=huggingface_key,\n",
    ")\n",
    "\n",
    "completion = client.chat.completions.create(\n",
    "    model=model,\n",
    "    messages=[\n",
    "        {\n",
    "            \"role\": \"user\",\n",
    "            # \"content\": \"What is the capital of France? And what is the capital of the largest country by population in Africa\"\n",
    "            \"content\": prompt\n",
    "        }\n",
    "    ],\n",
    ")"
   ]
  },
  {
   "cell_type": "code",
   "execution_count": 8,
   "id": "a56aad79-55e9-4261-b557-7c69fce56277",
   "metadata": {},
   "outputs": [],
   "source": [
    "# actually get the output\n",
    "llm_output = completion.choices[0].message.content"
   ]
  },
  {
   "cell_type": "code",
   "execution_count": 9,
   "id": "85867021-c2ef-4b25-b73a-47ed851048f4",
   "metadata": {},
   "outputs": [
    {
     "name": "stdout",
     "output_type": "stream",
     "text": [
      "Below is a **step‑by‑step roadmap** that many successful learners follow to go from zero to near‑native fluency in Japanese in **2–3 years**. It’s broken into:\n",
      "\n",
      "1. **Foundations (Months 0‑6)** – Build a solid base in sounds, basic grammar, and the first 500‑800 kanji.  \n",
      "2. **Intermediate Build‑up (Months 7‑18)** – Expand vocabulary, master all 2 000‑2 500 “Jōyō” kanji, and start thinking in Japanese.  \n",
      "3. **Advanced Fluency (Months 19‑36)** – Refine nuance, increase speed, and develop native‑like comprehension and production.\n",
      "\n",
      "The plan assumes **about 1 hour per day** of focused study plus **extra “immersion” time** (listening, reading, speaking) that can be slotted into commutes, downtime, or weekend blocks. Adjust the total daily time to your schedule—if you can invest 2 h daily you’ll compress the timeline; if only 30 min, stretch a bit longer.\n",
      "\n",
      "---\n",
      "\n",
      "## 1️⃣ Foundations (0‑6 months)\n",
      "\n",
      "| Goal | What to Master | Resources (Free / Low‑Cost) | How to Practice |\n",
      "|------|----------------|----------------------------|-----------------|\n",
      "| **Pronunciation & Listening** | All 5 vowel sounds, 14‑15 consonant clusters, pitch‑accent basics. | • **JapanesePod101** (Free episodes)  <br>• **Japanese Phonetics** videos by **Nihongo no Mori** <br>• **Forvo** (native audio) | • 10 min daily shadow‑reading short audio (repeat after speaker). <br>• Record yourself and compare to native. |\n",
      "| **Kana (Hiragana & Katakana)** | 46 basic + digraphs + long‑vowel & sokuon. | • **ToFugu Kana Guide** <br>• **Anki** “Kana Deck” (free) | • 5‑10 min daily flashcards until 100 % recall. <br>• Write each character by hand (helps memory). |\n",
      "| **Core Grammar (N5‑N4)** | 〜です, 〜ます, particles は/が/を, 〜ですか, basic verb forms (dictionary, masu, te‑form), adjectives, numbers, time expressions. | • **Genki I** (text + workbook) – $40 (used copy) <br>• **Bunpro** (free trial) <br>• **Tae Kim’s Grammar Guide** (online) | • **One‑sentence‑a‑day** journal: write a simple sentence using the grammar you just learned. <br>• Do textbook drills and check with an answer key or language‑exchange partner. |\n",
      "| **First 500‑800 Kanji** | Recognize, write, and know the **ON/kun readings** for each. | • **WaniKani** (free first 3 levels, then $9/mo) <br>• **Heisig “Remembering the Kanji”** (optional) <br>• **Kanji Study** (Android/iOS, free tier) | • 10 min SRS review daily. <br>• Write each kanji **once** on paper while saying both readings out loud. |\n",
      "| **Listening Comprehension** | Simple dialogues (N5/N4) – 30 s‑2 min. | • **NHK Easy News** (audio + text) <br>• **JapanesePod101** “Beginner” series <br>• **YouTube** “Japanese Ammo with Misa” (N5 playlists) | • Listen *once* without subtitles → write down anything you understand → check transcript. <br>• Repeat 2‑3 times, focusing on new vocab. |\n",
      "| **Speaking** | Basic self‑introduction, ordering food, asking directions. | • **HelloTalk** or **Tandem** (free) <br>• **italki** (free “language exchange” lessons) | • 5‑10 min daily voice note practice: record a short self‑intro, play back, correct. <br>• Pair up with a **partner** for 15‑min weekly “conversation sprint”. |\n",
      "\n",
      "### Daily Routine (30‑45 min)\n",
      "\n",
      "| Time | Activity |\n",
      "|------|----------|\n",
      "| 5 min | Warm‑up: Kana flashcards (Anki) |\n",
      "| 10 min | Grammar lesson (Genki/Tae Kim) + write 2‑3 example sentences |\n",
      "| 10 min | Kanji SRS (WaniKani) |\n",
      "| 5‑10 min | Listening: one short podcast/audio clip + transcription check |\n",
      "| 5‑10 min | Speaking: shadow‑read the same clip / record yourself |\n",
      "\n",
      "*Weekend Bonus*: 30‑60 min of *real* conversation (HelloTalk video call) + 1 h reading of **NHK Easy News** articles (copy sentences into Anki).\n",
      "\n",
      "---\n",
      "\n",
      "## 2️⃣ Intermediate Build‑up (7‑18 months)\n",
      "\n",
      "| Goal | Target | Resources | Practice Strategies |\n",
      "|------|--------|-----------|----------------------|\n",
      "| **Vocabulary Expansion** | 3 000‑5 000 useful words (N3‑N2 level) | • **Anki** “Core 2k/6k” decks (free) <br>• **Memrise Japanese 2** (free) <br>• **Jisho.org** for ad‑hoc lookup | • 15 min daily SRS (spaced repetition). <br>• **“Word‑in‑context”**: read a short news piece, highlight unknown words, add to Anki with example sentences. |\n",
      "| **Kanji Completion** | All 2 136 Jōyō Kanji + ~300 extra (common proper nouns) | • **WaniKani** (full paid) <br>• **Kanji Look and Learn** (book) <br>• **Kanji Damage** (online mnemonic site) | • Continue daily SRS. <br>• **Hand‑write** a “Kanji journal”: pick 5 new kanji each week, write each in 5 sentences. |\n",
      "| **Grammar Depth (N3‑N2)** | Conditional (〜たら, 〜ば), potential/passive, causative, honorific (〜ます, お‑〜になる), complex particles (に対して, について, とは, でも, しか, さえ), relative clauses, nominalizers (こと, の). | • **An Integrated Approach to Intermediate Japanese** (book) <br>• **Bunpro** (full subscription) <br>• **Tae Kim** advanced sections | • Do **“grammar drills”**: write 10 sentences for each new pattern; then swap with a partner for correction. |\n",
      "| **Listening (N3‑N2 speed)** | 70‑80 % comprehension of news, dramas, podcasts (10‑15 min chunks). | • **NHK News Easy** → graduate to **NHK News (regular)** <br>• **News in Slow Japanese** (YouTube) <br>• **Japanese Drama** (e.g., “逃げるは恥だが役に立つ”) with subtitles turned off after first watch. | • **Shadow‑copy**: Pause after each sentence, repeat exactly (intonation, pitch). <br>• **Transcription practice**: 1 min clip → write transcript → compare. |\n",
      "| **Speaking Fluency** | Hold 15‑20 min conversation on everyday topics; use varied grammar; speak without searching every word. | • **italki** (paid lesson 1–2 h/wk) <br>• **Speakly** (Japanese tracks) <br>• **Japanese Language Meetup** (in‑person or virtual) | • **“Topic‑of‑the‑Week”**: prepare 5‑10 bullet points, discuss with partner, record. <br>• Practice **“rapid‑fire”**: set a timer for 30 sec, answer a question without hesitation, then review errors. |\n",
      "| **Reading** | Light novels, manga, blog posts, short stories (200‑400 words). | • **Aozora Bunko** (public‑domain literature) <br>• **Satori Reader** (graded readings) <br>• **Manga** with furigana (e.g., “よつばと!”) | • **Read‑&‑Annotate**: underline unknown kanji/vocab → add to Anki with context. <br>• **Summarize** each article in 3‑4 Japanese sentences. |\n",
      "| **Writing** | Write ~300‑500 characters per week (journal, essays, forum posts). | • **Lang‑8** (native correction) <br>• **HiNative** (quick checks) <br>• **Reddit r/LearnJapanese** (feedback) | • **Weekly essay** (300‑500 字) on a chosen theme → post for correction. <br>• **Email pen‑pal** (Japanese native) – aim for 2 × week. |\n",
      "\n",
      "### Sample Weekly Schedule (≈10 h)\n",
      "\n",
      "| Day | Activity (≈1 h) |\n",
      "|-----|-----------------|\n",
      "| Mon | 20 min kanji SRS + 20 min vocab SRS + 20 min grammar (Bunpro) |\n",
      "| Tue | 30 min listening (NHK) + 30 min shadow‑reading |\n",
      "| Wed | 45 min speaking (italki/HelloTalk) + 15 min note‑taking on new expressions |\n",
      "| Thu | 30 min reading (Satori) + 30 min writing journal (review on Lang‑8) |\n",
      "| Fri | 20 min kanji hand‑write + 40 min vocab + 30 min grammar exercises |\n",
      "| Sat | 60 min “immersion marathon”: watch a drama episode (no subtitles) + write a 150‑word summary |\n",
      "| Sun | Review day: go through Anki lapses, revisit difficult grammar, plan next week + leisure (listen to Japanese music/podcasts) |\n",
      "\n",
      "*Key principle*: **Consistent, spaced repetition** beats cramming. Keep every day at least 15‑30 min of **active** study; extra immersion is flexible.\n",
      "\n",
      "---\n",
      "\n",
      "## 3️⃣ Advanced Fluency (19‑36 months)\n",
      "\n",
      "At this stage you’re moving from “can understand” to “can think and react instantly”. The emphasis shifts to **speed, nuance, and natural expression**.\n",
      "\n",
      "| Focus | Target | Resources & Tactics |\n",
      "|-------|--------|----------------------|\n",
      "| **Advanced Vocabulary & Idioms** | 8 000‑10 000 words (including academic, business, slang). | • **Kanzen Master N1** (vocab) <br>• **\"Japanese Core 2000\"** (expanded) <br>• **“Nihongo no Kiso”** idiom lists. <br>**Tactic:** Read a newspaper article, highlight idioms, create “idiom cards” with example sentences. |\n",
      "| **Kanji Mastery** | Recognise all Jōyō + ~500 extra (names, technical). Ability to write correctly under time pressure. | • **Kanji Stroke Order** apps (e.g., “Kanji Study”) <br>• **Practice writing** by transcribing news headlines in a notebook daily. |\n",
      "| **Grammar (N1)** | Complex conditionals, nuance‑laden auxiliaries (〜ものだ, 〜はずだ, 〜かねる, 〜かねない), rhetorical structures, keigo (敬語) at business level. | • **Shin Kanzen Master N1** (grammar) <br>• **“A Dictionary of Advanced Japanese Grammar”** (Alfreed, Sakai). |\n",
      "| **Listening – Native Speed** | 90‑95 % comprehension of TV news, talk shows, podcasts, movies without subtitles. | • **NHK News (regular)** <br>• **Bunka Radio**, **「ラジオ英会話」** equivalents for Japanese <br>• **Podcast “Sakiyomi”**, **“Bilingual News”** (Japanese‑English) – alternate listening. |\n",
      "| **Speaking – Spontaneity** | Participate in debates, give 10‑minute presentations, use appropriate keigo in formal settings. | • **italki** (professional tutor for feedback) <br>• **Toastmasters Japan** (online) – practice public speaking. <br>• **Shadow‑talk**: watch a 5‑minute speech, pause, repeat verbatim, then summarize in your own words. |\n",
      "| **Reading – Depth** | Read novels (500‑1 000 字 per chapter), non‑fiction (economics, science), editorials. | • **“Kanzen Master Bunkei”** (reading comprehension) <br>• **“NHK Book”** series, **“ASahi Shimbun”** digital. |\n",
      "| **Writing – Precision** | Write essays, business emails, research summaries with proper style and keigo. | • **“Writing Skills for Japanese”** (do‑it‑yourself workbook) <br>• **Native proofreading** (paid Lang‑8 premium, or a language partner). |\n",
      "| **Cultural & Pragmatic Fluency** | Understand humor, indirectness, situational etiquette. | • **“Japanese Culture and Language”** video series (YouTube) <br>• **Participate in local Japanese community events** (if possible). |\n",
      "\n",
      "### Daily “Advanced” Routine (≈2 h)\n",
      "\n",
      "| Block | Activity |\n",
      "|-------|----------|\n",
      "| 30 min | **Kanji/ vocab SRS** (focus on new idioms & rare kanji). |\n",
      "| 30 min | **Listening + shadowing** (news segment, 5‑min speech). |\n",
      "| 30 min | **Reading** (novel chapter or newspaper) → annotate → summarise in 150 words. |\n",
      "| 30 min | **Speaking / Writing**: record a 2‑min “talking point” on the read article; then type a 200‑word response. Send to a tutor for correction. |\n",
      "| 15‑30 min | **Keigo practice**: role‑play a business meeting scenario (script, then improv). |\n",
      "\n",
      "**Weekly “Immersion Day”** (3‑4 h): watch a Japanese movie *without subtitles*, take notes of unfamiliar phrases, then research and add them to your decks. End with a 10‑minute oral summary for a language partner.\n",
      "\n",
      "---\n",
      "\n",
      "## Milestones & Self‑Assessment\n",
      "\n",
      "| Time | Expected Benchmarks (CEFR ≈) |\n",
      "|------|------------------------------|\n",
      "| **3 months** | **A1‑A2** – can introduce self, ask simple questions, read hiragana/katakana + ~200 kanji. |\n",
      "| **6 months** | **B1** – handle everyday conversations, read NHK Easy News, write short diary entries. |\n",
      "| **12 months** | **B2** – understand TV news, discuss abstract topics, write ~300‑word essays, 1 500 kanji. |\n",
      "| **18 months** | **C1/Advanced** – watch movies without subtitles, give presentations, pass JLPT N2 comfortably. |\n",
      "| **24‑36 months** | **C2 / Near‑Native** – pass JLPT N1 (or equivalent), function fluently in professional Japanese, think in Japanese without translation. |\n",
      "\n",
      "Use **small, objective tests** every 2‑3 months:\n",
      "\n",
      "- **Listening:** JLPT practice audio (N4 → N1) – note % correct.\n",
      "- **Reading:** timed reading of a 300‑word passage, then summarize.\n",
      "- **Speaking:** record 2‑minute monologue; compare fluency (pauses, filler words) over time.\n",
      "- **Writing:** keep a portfolio of essays; have a native reviewer give a rubric score.\n",
      "\n",
      "If you’re consistently **above 80 %** on N2‑level tasks by month 18, you’re on track for N1 by month 24.\n",
      "\n",
      "---\n",
      "\n",
      "## Tips & Tricks (Based on What Works for Most Learners)\n",
      "\n",
      "1. **Speak from Day 1.** Even if you only know “hello” and “thank you”, using the language forces your brain to retrieve vocabulary faster.\n",
      "2. **Use **Spaced Repetition** for *everything*: vocab, kanji, example sentences, idioms. Anki’s “Cram” mode is for short‑term bursts; default “review” mode is where fluency is built.\n",
      "3. **Write by hand** at least once a week. The motor memory of kanji strokes reinforces recognition.\n",
      "4. **Chunking** – treat patterns as blocks (e.g., 「〜てもいい」, 「〜たらどうですか」). Practice them in isolation, then embed in sentences.\n",
      "5. **Leverage *content you love*.** Anime, cooking shows, video‑games, J‑pop; you’ll stay motivated longer.\n",
      "6. **Mix formal and informal input.** Business news + colloquial YouTubers gives you a full spectrum of register.\n",
      "7. **Set micro‑goals** (e.g., “use ‘〜てみる’ three times this week”). Celebrate them to keep momentum.\n",
      "8. **Record & Review** – hearing yourself helps spot unnatural intonation and fill‑in gaps.\n",
      "9. **Find a “study buddy”** or a small community (Discord server, subreddit). Accountability accelerates progress.\n",
      "10. **Periodically “reset”** – take a week to focus only on passive exposure (watch Japanese TV with subtitles on, then off) to let your brain absorb patterns unconsciously.\n",
      "\n",
      "---\n",
      "\n",
      "## Sample 3‑Year Timeline (60 weeks per year ≈ 180 weeks)\n",
      "\n",
      "| Weeks | Focus | Key Activities |\n",
      "|-------|-------|----------------|\n",
      "| 1‑12 | Kana, basic grammar, first 300 kanji | Daily Anki, Genki I, simple dialogues |\n",
      "| 13‑24 | Expand to 800 kanji, N4 grammar, simple reading | NHK Easy, short manga, weekly speaking |\n",
      "| 25‑36 | Finish Genki II, reach 1 500 kanji, start N3 vocab | Bunpro N3, news podcasts, weekly essay |\n",
      "| 37‑48 | N3‑N2 grammar, full Jōyō kanji, start native‑speed listening | Satori Reader, drama without subs, keigo drills |\n",
      "| 49‑72 | N2‑N1 vocab (5 000‑8 000), advanced kanji, start business keigo | JLPT N2 practice tests, business email writing, meet‑ups |\n",
      "| 73‑96 | Full N1 grammar, reading novels, intensive speaking | Shadow‑talk, TOEFL‑style essays, presentation practice |\n",
      "| 97‑120 | Polish nuances, prepare for N1 (if desired), engage in real‑world use | Work‑place simulations, translation projects, cultural immersion trips |\n",
      "\n",
      "---\n",
      "\n",
      "## Final Thought\n",
      "\n",
      "Fluency is less a magic “deadline” and more a **steady accumulation of habits**. By committing to **regular, focused practice** and surrounding yourself with **meaningful Japanese input**, you’ll hit a functional‑fluency level well within 2‑3 years. The key is **consistency**, **active usage**, and **continuous feedback**.\n",
      "\n",
      "Good luck, and enjoy the journey! 🎌✨\n"
     ]
    }
   ],
   "source": [
    "print(llm_output)"
   ]
  },
  {
   "cell_type": "code",
   "execution_count": 10,
   "id": "57f70a9a-e272-495d-8313-f900a82ae9f3",
   "metadata": {},
   "outputs": [],
   "source": [
    "# # write output to a file\n",
    "# with open(\"llm_output.md\", \"w\") as file:\n",
    "#     file.write(llm_output)"
   ]
  },
  {
   "cell_type": "code",
   "execution_count": 11,
   "id": "e9722f62-bd3d-4a96-ba81-12811639e745",
   "metadata": {},
   "outputs": [],
   "source": [
    "# write output to a file\n",
    "# I add the model and current datetime. Modify this as you like\n",
    "\n",
    "# model=\"openai/gpt-oss-120b:novita\"\n",
    "\n",
    "# Get current date and time in the format YYYY_MM_DD_HH_MM_SS\n",
    "current_datetime = datetime.now().strftime(\"%Y_%m_%d_%H_%M_%S\")\n",
    "\n",
    "output_file_name = f'{model}_{current_datetime}_output.md'\n",
    "# replace /, :, and - with _\n",
    "replacements = str.maketrans({\":\": \"_\", \"/\": \"_\", \"-\": \"_\"})\n",
    "output_file_name = output_file_name.translate(replacements)\n",
    "\n",
    "with open(output_file_name, \"w\") as file:\n",
    "    file.write(llm_output)"
   ]
  },
  {
   "cell_type": "code",
   "execution_count": null,
   "id": "7539e614-4365-41c5-b2a8-ec056a0991b6",
   "metadata": {},
   "outputs": [],
   "source": []
  }
 ],
 "metadata": {
  "kernelspec": {
   "display_name": "Python 3 (ipykernel)",
   "language": "python",
   "name": "python3"
  },
  "language_info": {
   "codemirror_mode": {
    "name": "ipython",
    "version": 3
   },
   "file_extension": ".py",
   "mimetype": "text/x-python",
   "name": "python",
   "nbconvert_exporter": "python",
   "pygments_lexer": "ipython3",
   "version": "3.10.12"
  }
 },
 "nbformat": 4,
 "nbformat_minor": 5
}
