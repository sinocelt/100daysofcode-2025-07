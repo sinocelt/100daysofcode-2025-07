{
 "cells": [
  {
   "cell_type": "markdown",
   "id": "05bd2eb0-3e98-43b0-9317-eb5f734ddc3d",
   "metadata": {},
   "source": [
    "# By Justin Barry\n",
    "## https://watsontechworld.com"
   ]
  },
  {
   "cell_type": "code",
   "execution_count": 1,
   "id": "ac80bde1-445b-4fd6-b4c0-a4c8692db835",
   "metadata": {},
   "outputs": [],
   "source": [
    "# https://huggingface.co/openai/gpt-oss-20b\n",
    "# https://huggingface.co/openai/gpt-oss-120b"
   ]
  },
  {
   "cell_type": "markdown",
   "id": "208654c0-35c8-482f-bd69-b37fca28f0e8",
   "metadata": {},
   "source": [
    "This document will give examples of using the Hugging Face API with the gpt-oss new models from OpenAI.<br/>\n",
    "You can modify to use other models on Hugging Face as well. Make sure you get an API key. You can get a free API key to use for a few tries."
   ]
  },
  {
   "cell_type": "code",
   "execution_count": 2,
   "id": "9e2b021d-e057-425a-9993-89c9398517f4",
   "metadata": {},
   "outputs": [],
   "source": [
    "import os\n",
    "from openai import OpenAI\n",
    "from datetime import datetime"
   ]
  },
  {
   "cell_type": "markdown",
   "id": "70556d89-f851-426d-8f52-1ef529611952",
   "metadata": {},
   "source": [
    "# Step 1: make a Hugging Face account at huggingface.co"
   ]
  },
  {
   "cell_type": "markdown",
   "id": "679c3319-7d0c-44a9-ac12-8d725391ea97",
   "metadata": {},
   "source": [
    "# Step 2: Get an API key from Hugging Face"
   ]
  },
  {
   "cell_type": "markdown",
   "id": "e233919d-c192-437e-97b5-09754eb8f293",
   "metadata": {
    "jp-MarkdownHeadingCollapsed": true
   },
   "source": [
    "Get a key from huggingface at:<br/>\n",
    "https://huggingface.co/settings/tokens"
   ]
  },
  {
   "cell_type": "markdown",
   "id": "1ccb0b3e-ac68-4cea-8811-081f977c82c8",
   "metadata": {},
   "source": [
    "Copy the API key"
   ]
  },
  {
   "cell_type": "code",
   "execution_count": 3,
   "id": "ed66ba59-0e80-4bd6-b41f-a4b2725dadac",
   "metadata": {},
   "outputs": [],
   "source": [
    "# option 1: set the key here in Python\n",
    "# huggingface_key = 'hf_YOUR_HUGGINGFACE_API_KEY'\n",
    "\n",
    "# option 2: set the key as an environment variable in a terminal and access it here\n",
    "# If you choose this, put something like this in a terminal (modify with your actual key):\n",
    "# export HF_TOKEN=\"hf_YOUR_HUGGINGFACE_API_KEY\"\n",
    "# to get from computer as an environment variable\n",
    "# or put export HF_TOKEN=\"hf_YOUR_HUGGINGFACE_API_KEY\" in .bashrc file\n",
    "huggingface_key = os.environ[\"HF_TOKEN\"]"
   ]
  },
  {
   "cell_type": "code",
   "execution_count": null,
   "id": "9e30c24d-3158-4c39-94c6-bc7a72277aaf",
   "metadata": {},
   "outputs": [],
   "source": []
  },
  {
   "cell_type": "markdown",
   "id": "8dcc3687-6ec2-429a-ae2a-f72bb64dab3a",
   "metadata": {},
   "source": [
    "# Get the code for Hugging Face for a given model\n",
    "Click on: <br/>\n",
    "Deploy -> Inference Providers<br/>\n",
    "Then choose the model name and provider you want."
   ]
  },
  {
   "cell_type": "code",
   "execution_count": null,
   "id": "c29a73f3-d584-46ad-bcc5-ff2c47f25e59",
   "metadata": {},
   "outputs": [],
   "source": []
  },
  {
   "cell_type": "markdown",
   "id": "d628aa2f-3295-42a1-983e-482e98161095",
   "metadata": {},
   "source": [
    "# Choose the model name on Hugging Face (it needs to match exactly)"
   ]
  },
  {
   "cell_type": "code",
   "execution_count": 4,
   "id": "a66d3060-1120-42c6-bfc1-c93fdaac1b6b",
   "metadata": {},
   "outputs": [],
   "source": [
    "# Below uses novita as the provider. Change the model as you like.\n",
    "\n",
    "model=\"openai/gpt-oss-20b:novita\"\n",
    "# model=\"openai/gpt-oss-120b:novita\""
   ]
  },
  {
   "cell_type": "code",
   "execution_count": 5,
   "id": "cec1e588-dc19-4ced-9130-8ad60c7894d7",
   "metadata": {},
   "outputs": [],
   "source": [
    "#prompt = \"\"\"Teach me how to start a successful email list for free from scratch. I will post videos on YouTube and other platforms\n",
    "#I will also have a website. I will eventually have a landing page for the email list. Help give me the best tips for successfully starting\n",
    "#and email list from scratch and make it realistic for getting over 100 subscribers over a year and give a plan.\n",
    "#\"\"\"\n",
    "\n",
    "# prompt = \"Describe the process of photosynthesis in plants\"\n",
    "\n",
    "# optionally read in prompt from a text file. If you do, make sure you edit the file custom_prompt.txt\n",
    "with open(\"custom_prompt.txt\", \"r\") as file:\n",
    "    prompt = file.read()"
   ]
  },
  {
   "cell_type": "code",
   "execution_count": 6,
   "id": "13d145dc-bf75-4a57-bfa8-d8751b66ad5f",
   "metadata": {},
   "outputs": [
    {
     "data": {
      "text/plain": [
       "'Teach me how to read more effectively and faster.\\n'"
      ]
     },
     "execution_count": 6,
     "metadata": {},
     "output_type": "execute_result"
    }
   ],
   "source": [
    "prompt"
   ]
  },
  {
   "cell_type": "code",
   "execution_count": 7,
   "id": "c8917988-2975-43d4-b80a-24ba52d6916d",
   "metadata": {},
   "outputs": [],
   "source": [
    "client = OpenAI(\n",
    "    base_url=\"https://router.huggingface.co/v1\",\n",
    "    api_key=huggingface_key,\n",
    ")\n",
    "\n",
    "completion = client.chat.completions.create(\n",
    "    model=model,\n",
    "    messages=[\n",
    "        {\n",
    "            \"role\": \"user\",\n",
    "            # \"content\": \"What is the capital of France? And what is the capital of the largest country by population in Africa\"\n",
    "            \"content\": prompt\n",
    "        }\n",
    "    ],\n",
    ")"
   ]
  },
  {
   "cell_type": "code",
   "execution_count": 8,
   "id": "a56aad79-55e9-4261-b557-7c69fce56277",
   "metadata": {},
   "outputs": [],
   "source": [
    "# actually get the output\n",
    "llm_output = completion.choices[0].message.content"
   ]
  },
  {
   "cell_type": "code",
   "execution_count": 9,
   "id": "85867021-c2ef-4b25-b73a-47ed851048f4",
   "metadata": {},
   "outputs": [
    {
     "name": "stdout",
     "output_type": "stream",
     "text": [
      "# How to Read Faster — Without Losing Understanding\n",
      "\n",
      "Below is a practical, step‑by‑step roadmap you can start using **today**.  \n",
      "It blends the well‑proven habits of speed‑readers with the science of\n",
      "cognitive load and memory, so you’ll keep the *meaning* while shaving\n",
      "time off the page.\n",
      "\n",
      "> **Bottom line:**  \n",
      "> *Speed* + *comprehension* = a moving target. Aim for a steady 2‑3×\n",
      "> increase first; then refine the fine‑tuned trade‑off you’re comfortable\n",
      "> with.\n",
      "\n",
      "---\n",
      "\n",
      "## 1️⃣ Clarify Your *Why*\n",
      "\n",
      "| Reading Goal | Recommended Speed & Focus                     |\n",
      "|--------------|-----------------------------------------------|\n",
      "| **Quick scan** (news, email) | 600 – 900 WPM, capture gist |\n",
      "| **Efficient learning** (textbook, reports) | 250 – 350 WPM, grasp key ideas |\n",
      "| **In‑depth mastery** (research, novels) | 150 – 250 WPM, full comprehension |\n",
      "\n",
      "Knowing *why* you read shapes everything: the amount of time, the level of\n",
      "analysis, the tools you'll choose, and even the *physical layout* (hand\n",
      "paper vs. screen).\n",
      "\n",
      "---\n",
      "\n",
      "## 2️⃣ Get Your Workspace Ready\n",
      "\n",
      "| Element | Why It Matters | Quick Fix |\n",
      "|---------|----------------|-----------|\n",
      "| **Consistent lighting** | Avoid eye strain that slows you | Use natural light on paper; dim light on screen |\n",
      "| **Eliminate distractions** | Cognitive load spikes | Use “Do Not Disturb”, silence phone or use apps like Freedom |\n",
      "| **Readable format** | Visual tracking improves | Choose 12‑14 pt typeface, 1.5 spacing, minimal margin shifts |\n",
      "\n",
      "---\n",
      "\n",
      "## 3️⃣ Pre‑Reading: Set the Stage\n",
      "\n",
      "Pre‑reading (also called **previewing**) primes your brain for the structure and main ideas.\n",
      "\n",
      "1. **Skim the table‑of‑contents, headings, and sub‑headings** – creates a mental map.\n",
      "2. **Read the first 50–100 words** of each section – look for thesis statements and hooks.\n",
      "3. **Identify the reading purpose** – ask “What do I need to take away from this?”  \n",
      "   *Write it down if it helps.*\n",
      "\n",
      "> **Tip:** Keep the preview to **10–15 seconds** per page. If you’re reading e‑texts, use the “jump to keyword” or “highlight” tools.\n",
      "\n",
      "---\n",
      "\n",
      "## 4️⃣ Core Speed‑Reading Techniques\n",
      "\n",
      "| Technique | How to Do It | When it Helps |\n",
      "|-----------|--------------|---------------|\n",
      "| **Chunking (visual group)** | Your eyes naturally read 4–6 words at a time. Train by *grouping* words instead of reading word by word. | Academic chapters, dense paragraphs |\n",
      "| **Reduce subvocalization** | Instead of “saying” the word in your head, silently “hear” the sound or imagine the word. Use a *metronome* or a **beep** for pace. | Speed‑reading practice, non‑technical reading |\n",
      "| **Pointer or guide** | Use a finger, pen, or your finger‑pointing feature on e‑readers. Keeps your eye line straight and reduces regressions. | Long stretches of reading |\n",
      "| **Peripheral focus** | Expand the central focus window to 90°, reading several words at once. Practice widening the field gradually. | Fluency improvement |\n",
      "| **Rapid scanning** | Train to spot keywords (numbers, action verbs, adjectives) swiftly. Do not dwell on every word. | Quick fact‑finding or fact sheets |\n",
      "| **RPT (Rapid Parallel Text)** | Dual‑column reading: read left and right columns simultaneously. Requires advanced skill. | Advanced speed‑readers for non-native texts |\n",
      "\n",
      "---\n",
      "\n",
      "## 5️⃣ Practice Routines\n",
      "\n",
      "1. **Warm‑up (5 min)** – a light reading pace (200 WPM) for a familiar article.  \n",
      "   *This primes your eyes and reduces eye fatigue.*\n",
      "\n",
      "2. **Speed Drill (10 min)** – pick a textbook chapter.  \n",
      "   *Use a stopwatch or app. Record reading speed. Focus on keeping eye movement to a handful of fixed spots.*\n",
      "\n",
      "3. **Chunking Drill** – take a paragraph, type it out, then rewrite it using only the *first word of each clause*.  \n",
      "   *Practice reading in blocks.*\n",
      "\n",
      "4. **Comprehension Check** – after each 5‑minute interval, write a 1‑sentence summary.  \n",
      "   *The act of summarizing forces you to filter essential information.*\n",
      "\n",
      "5. **Cool‑down (5 min)** – read something relaxed (a light blog post).  \n",
      "   *Returns eye strain to normal.*\n",
      "\n",
      "**Schedule**  \n",
      "| Day | Session | Focus |\n",
      "|-----|---------|-------|\n",
      "| Mon–Fri | 30 min | Mixed drills, progressive speed |\n",
      "| Sat | 15 min | Intensive scan of news or policy briefs |\n",
      "| Sun | 10 min | Light reading + reflection |\n",
      "\n",
      "---\n",
      "\n",
      "## 6️⃣ Tracking & Adjusting\n",
      "\n",
      "| Metric | Target | How to Measure |\n",
      "|--------|--------|----------------|\n",
      "| Reading Speed (WPM) | +10 % per month | Use tools: Spreeder, ReadSpeeder, or smartphone timers |\n",
      "| Comprehension Score | 90 % correct on key info | Post‑reading quiz or summary |\n",
      "| Eye Movements | Fewer regressions | Eye‑tracking apps or manual observation |\n",
      "| Retention | <20 % forgetting after 24 hrs | Spaced‑repetition flashcards, re‑reading summary |\n",
      "\n",
      "> **Remember:** 200 – 300 WPM is average. 350 + WPM usually signals loss of depth. For complex subjects, aim for *accuracy* first, then speed.\n",
      "\n",
      "---\n",
      "\n",
      "## 7️⃣ Tools & Apps (Optional)\n",
      "\n",
      "| Tool | What It Does | Best For |\n",
      "|------|--------------|----------|\n",
      "| **Spreeder** | Text‑to‑speed‑reader, eliminates subvocalization | Learning new concepts quickly |\n",
      "| **BeeLine Reader** | Color‑gradient guides to keep the eye on the line | Reducing eye strain on screens |\n",
      "| **Readwise** | Consolidates highlights, syncs to Anki | Long‑form content retention |\n",
      "| **Microsoft Edge “Reading View”** | Removes clutter, adds background color | Clean, distraction‑free reading |\n",
      "| **Stroop (chrome add‑on)** | Binds reading to a metronome beat | Controlling pacing |\n",
      "\n",
      "> **Tip:** Pair speed exercises with **Anki** flashcards created from your summaries to cement knowledge.\n",
      "\n",
      "---\n",
      "\n",
      "## 8️⃣ Advanced Strategies (Optional)\n",
      "\n",
      "If you already hit 300–350 WPM and still want to push:\n",
      "\n",
      "1. **Reading with Two Eyes (Parallel Text)** – practice with a *mirror pair* of texts on opposite sides of a screen.  \n",
      "2. **Teach‑Back** – read a passage, then explain it to an imaginary student in 30 seconds.  \n",
      "3. **Mind Mapping** – while reading, scribble a high‑level concept map; this forces quick interpretation.  \n",
      "\n",
      "---\n",
      "\n",
      "## 9️⃣ Common Pitfalls & How to Avoid Them\n",
      "\n",
      "| Pitfall | Why It Happens | Fix |\n",
      "|--------|-----------------|-----|\n",
      "| **Subvocalizing** | Hard to break muscle memory | Use a metronome or “beat” to distract from speaking |\n",
      "| **Eye Regression** | Lack of confidence in comprehension | Mark unfamiliar words; review lightly after reading |\n",
      "| **Skipping Context** | Focus on speed over meaning | After each section, pause to recite the *central idea* aloud |\n",
      "| **Burnout** | Overloading eyes and brain | Follow the 20‑20‑20 rule (every 20 min look 20 ft away, 20 s) |\n",
      "| **Platform Over‑dependence** | Relying on a single app, losing flexibility | Alternate between print, screen, and mixed reading |\n",
      "\n",
      "---\n",
      "\n",
      "## 10️⃣ Quick‑Start Summary\n",
      "\n",
      "1. **Set a concrete purpose** (why you’re reading).  \n",
      "2. **Prepare your environment** (good light, no distractions).  \n",
      "3. **Preview the text** (heading, first paragraph).  \n",
      "4. **Apply core techniques**: chunking, pointer, rapid scanning.  \n",
      "5. **Practice regularly** with time‑boxed drills.  \n",
      "6. **Check comprehension** after each chunk.  \n",
      "7. **Track progress** and adjust speed vs. depth.  \n",
      "8. **Use tools** if they fit your style; otherwise, stick to the fundamentals.  \n",
      "9. **Watch for burnout**; give your eyes a break.  \n",
      "\n",
      "---\n",
      "\n",
      "### Final Thought\n",
      "\n",
      "Speed reading is less about “bleeding text\" faster and more about training your brain to *select, integrate, and retain* the most important information at a higher tempo. Keep the balance: **speed first, depth second**. Over the next few weeks, you’ll notice that you’re not just getting through pages faster—you’re also pulling out the nuggets of value quicker and more reliably.\n",
      "\n",
      "Happy reading! 🚀\n"
     ]
    }
   ],
   "source": [
    "print(llm_output)"
   ]
  },
  {
   "cell_type": "code",
   "execution_count": null,
   "id": "0f185253-be45-406d-8487-95a382bc06cc",
   "metadata": {},
   "outputs": [],
   "source": []
  },
  {
   "cell_type": "code",
   "execution_count": 10,
   "id": "57f70a9a-e272-495d-8313-f900a82ae9f3",
   "metadata": {},
   "outputs": [],
   "source": [
    "# simple way to write output to a file\n",
    "with open(\"llm_output.md\", \"w\") as file:\n",
    "    file.write(llm_output)"
   ]
  },
  {
   "cell_type": "code",
   "execution_count": 13,
   "id": "e9722f62-bd3d-4a96-ba81-12811639e745",
   "metadata": {},
   "outputs": [
    {
     "data": {
      "text/plain": [
       "'\\ncurrent_datetime = datetime.now().strftime(\"%Y_%m_%d_%H_%M_%S\")\\n\\noutput_file_name = f\\'{model}_{current_datetime}_output.md\\'\\n# replace /, :, and - with _\\nreplacements = str.maketrans({\":\": \"_\", \"/\": \"_\", \"-\": \"_\"})\\noutput_file_name = output_file_name.translate(replacements)\\n\\nwith open(output_file_name, \"w\") as file:\\n    file.write(llm_output)\\n'"
      ]
     },
     "execution_count": 13,
     "metadata": {},
     "output_type": "execute_result"
    }
   ],
   "source": [
    "# more complicated way, but more useful output name\n",
    "\n",
    "# write output to a file\n",
    "# I add the model and current datetime. Modify this as you like\n",
    "\n",
    "# model=\"openai/gpt-oss-120b:novita\"\n",
    "\n",
    "\n",
    "# Get current date and time in the format YYYY_MM_DD_HH_MM_SS\n",
    "\"\"\"\n",
    "current_datetime = datetime.now().strftime(\"%Y_%m_%d_%H_%M_%S\")\n",
    "\n",
    "output_file_name = f'{model}_{current_datetime}_output.md'\n",
    "# replace /, :, and - with _\n",
    "replacements = str.maketrans({\":\": \"_\", \"/\": \"_\", \"-\": \"_\"})\n",
    "output_file_name = output_file_name.translate(replacements)\n",
    "\n",
    "with open(output_file_name, \"w\") as file:\n",
    "    file.write(llm_output)\n",
    "\"\"\""
   ]
  },
  {
   "cell_type": "code",
   "execution_count": null,
   "id": "b5ca9284-e725-4159-ab63-56684ed81dd7",
   "metadata": {},
   "outputs": [],
   "source": []
  }
 ],
 "metadata": {
  "kernelspec": {
   "display_name": "Python 3 (ipykernel)",
   "language": "python",
   "name": "python3"
  },
  "language_info": {
   "codemirror_mode": {
    "name": "ipython",
    "version": 3
   },
   "file_extension": ".py",
   "mimetype": "text/x-python",
   "name": "python",
   "nbconvert_exporter": "python",
   "pygments_lexer": "ipython3",
   "version": "3.10.12"
  }
 },
 "nbformat": 4,
 "nbformat_minor": 5
}
