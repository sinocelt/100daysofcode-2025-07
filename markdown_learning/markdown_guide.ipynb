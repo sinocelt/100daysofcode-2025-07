{
 "cells": [
  {
   "cell_type": "code",
   "execution_count": null,
   "id": "6f74a5b4-9a99-496e-89ef-e48d13257b9f",
   "metadata": {},
   "outputs": [],
   "source": []
  },
  {
   "cell_type": "code",
   "execution_count": null,
   "id": "3e9fbd17-25fa-40e2-a502-d0d41474377a",
   "metadata": {},
   "outputs": [],
   "source": [
    "# Task Lists"
   ]
  },
  {
   "cell_type": "markdown",
   "id": "fca71fca-2c84-4ccd-a470-29035221a71a",
   "metadata": {},
   "source": [
    "# Task Lists\n",
    "\n",
    "Note: sometimes some markdown renderers don't support specific parts of Markdown.\n",
    "\n",
    "- [] Walk dog\n",
    "- [] Exercise\n",
    "- [] Eat dinner\n"
   ]
  },
  {
   "cell_type": "markdown",
   "id": "05e3498e-a127-4d6e-a29b-a4434ef877c8",
   "metadata": {},
   "source": [
    "- [ ] Walk dog\n",
    "- [x] Exercise\n",
    "- [ ] Eat dinner\n"
   ]
  },
  {
   "cell_type": "code",
   "execution_count": null,
   "id": "034cbca0-7835-4659-8d83-cff70ebc0f92",
   "metadata": {},
   "outputs": [],
   "source": []
  }
 ],
 "metadata": {
  "kernelspec": {
   "display_name": "Python (.venv - useful-pandas-code)",
   "language": "python",
   "name": "useful-pandas-code"
  },
  "language_info": {
   "codemirror_mode": {
    "name": "ipython",
    "version": 3
   },
   "file_extension": ".py",
   "mimetype": "text/x-python",
   "name": "python",
   "nbconvert_exporter": "python",
   "pygments_lexer": "ipython3",
   "version": "3.10.12"
  }
 },
 "nbformat": 4,
 "nbformat_minor": 5
}
