{
 "cells": [
  {
   "cell_type": "markdown",
   "id": "05bd2eb0-3e98-43b0-9317-eb5f734ddc3d",
   "metadata": {},
   "source": [
    "# Justin Barry\n",
    "## https://watsontechworld.com"
   ]
  },
  {
   "cell_type": "code",
   "execution_count": 2,
   "id": "9e2b021d-e057-425a-9993-89c9398517f4",
   "metadata": {},
   "outputs": [],
   "source": [
    "import os\n",
    "from openai import OpenAI"
   ]
  },
  {
   "cell_type": "code",
   "execution_count": 3,
   "id": "c9cd1b71-a5ca-453b-9806-e25b13253c32",
   "metadata": {},
   "outputs": [],
   "source": [
    "# first get a key from huggingface at https://huggingface.co/settings/tokens\n",
    "# You might want to get a paid account\n",
    "huggingface_key = 'hf_YOUR_HUGGINGFACE_API_KEY'"
   ]
  },
  {
   "cell_type": "code",
   "execution_count": 4,
   "id": "a66d3060-1120-42c6-bfc1-c93fdaac1b6b",
   "metadata": {},
   "outputs": [],
   "source": [
    "# model_name = \"meta-llama/Llama-3.1-70B-Instruct:fireworks-ai\"\n",
    "# model_name = \"Qwen/Qwen2.5-72B-Instruct\"\n",
    "model_name = \"Qwen/Qwen2.5-72B-Instruct:novita\""
   ]
  },
  {
   "cell_type": "code",
   "execution_count": 5,
   "id": "cec1e588-dc19-4ced-9130-8ad60c7894d7",
   "metadata": {},
   "outputs": [],
   "source": [
    "# prompt = 'Teach me quantum computing as if I were a 10 year old'\n",
    "prompt = \"Give me ideas for how to start a successful 100% online business with low startup capital and can be run 100% remotely\""
   ]
  },
  {
   "cell_type": "code",
   "execution_count": 6,
   "id": "c8917988-2975-43d4-b80a-24ba52d6916d",
   "metadata": {},
   "outputs": [],
   "source": [
    "client = OpenAI(\n",
    "    base_url=\"https://router.huggingface.co/v1\",\n",
    "    api_key=huggingface_key,\n",
    ")\n",
    "\n",
    "completion = client.chat.completions.create(\n",
    "    model=model_name,\n",
    "    messages=[\n",
    "        {\n",
    "            \"role\": \"user\",\n",
    "            # \"content\": \"What is the capital of France? And what is the capital of the largest country by population in Africa\"\n",
    "            \"content\": prompt\n",
    "        }\n",
    "    ],\n",
    ")"
   ]
  },
  {
   "cell_type": "code",
   "execution_count": 7,
   "id": "a56aad79-55e9-4261-b557-7c69fce56277",
   "metadata": {},
   "outputs": [],
   "source": [
    "# actually get the output\n",
    "llm_output = completion.choices[0].message.content"
   ]
  },
  {
   "cell_type": "code",
   "execution_count": 9,
   "id": "85867021-c2ef-4b25-b73a-47ed851048f4",
   "metadata": {},
   "outputs": [
    {
     "name": "stdout",
     "output_type": "stream",
     "text": [
      "Starting a successful 100% online business with low startup capital and the ability to run it from anywhere can be a great way to achieve flexibility and financial independence. Here are some ideas and steps to consider:\n",
      "\n",
      "### 1. **Freelance Services**\n",
      "- **Platforms:** Upwork, Fiverr, Freelancer, LinkedIn ProFinder\n",
      "- **Services:** Writing, Content Creation, Social Media Management, Graphic Design, Web Development, SEO, Consulting, Virtual Assistance\n",
      "- **Steps:**\n",
      "  - Create a strong portfolio.\n",
      "  - Write compelling proposals.\n",
      "  - Build a strong online presence.\n",
      "  - Network and seek referrals.\n",
      "\n",
      "### 2. **E-commerce**\n",
      "- **Platforms:** Shopify, WooCommerce (WordPress), Etsy, Amazon\n",
      "- **Products:** Dropshipping, Print-on-Demand, Digital Products (eBooks, Courses, Stock Photos)\n",
      "- **Steps:**\n",
      "  - Identify a niche market.\n",
      "  - Choose a platform and set up your store.\n",
      "  - Source products (consider dropshipping for low capital).\n",
      "  - Market your products through social media, SEO, and paid ads.\n",
      "\n",
      "### 3. **Affiliate Marketing**\n",
      "- **Platforms:** Amazon Associates, ShareASale, CJ Affiliate\n",
      "- **Content:** Blogging, YouTube, Instagram, TikTok\n",
      "- **Steps:**\n",
      "  - Choose a niche.\n",
      "  - Create valuable content.\n",
      "  - Join affiliate programs.\n",
      "  - Promote products and generate affiliate links.\n",
      "  - Track and optimize performance.\n",
      "\n",
      "### 4. **Online Coaching and Consultancy**\n",
      "- **Areas:** Career Coaching, Business Coaching, Health and Wellness, Personal Development\n",
      "- **Steps:**\n",
      "  - Identify your niche expertise.\n",
      "  - Develop a coaching program or consultancy package.\n",
      "  - Create a website and social media profiles.\n",
      "  - Offer free consultations or webinars to attract clients.\n",
      "  - Build testimonials and case studies.\n",
      "\n",
      "### 5. **Online Courses and Tutorials**\n",
      "- **Platforms:** Teachable, Udemy, Kajabi, Thinkific\n",
      "- **Topics:** Programming, Marketing, Photography, Cooking, Music\n",
      "- **Steps:**\n",
      "  - Choose a topic you are knowledgeable about.\n",
      "  - Create high-quality content (videos, text, quizzes).\n",
      "  - Set up a course on a platform.\n",
      "  - Market your course through social media, email marketing, and SEO.\n",
      "  - Consider offering a free trial or sample content.\n",
      "\n",
      "### 6. **Digital Marketing Services**\n",
      "- **Services:** SEO, PPC, Social Media Management, Content Marketing\n",
      "- **Steps:**\n",
      "  - Identify your niche (e.g., small businesses, specific industries).\n",
      "  - Create a portfolio of your work.\n",
      "  - Offer free consultations or audits.\n",
      "  - Network and seek referrals.\n",
      "  - Continuously optimize and update your skills.\n",
      "\n",
      "### 7. **Blogging and Content Creation**\n",
      "- **Platforms:** WordPress, Blogger, Medium\n",
      "- **Monetization:** Ads (Google AdSense), Sponsorships, Affiliate Marketing, Subscription\n",
      "- **Steps:**\n",
      "  - Choose a niche.\n",
      "  - Start a blog and create high-quality content.\n",
      "  - Build an audience through SEO and social media.\n",
      "  - Monetize your blog through various methods.\n",
      "\n",
      "### 8. **Online Tutoring**\n",
      "- **Platforms:** Chegg, Wyzant, TutorMe\n",
      "- **Subjects:** Math, Science, Languages, Test Prep\n",
      "- **Steps:**\n",
      "  - Identify your area of expertise.\n",
      "  - Sign up on tutoring platforms.\n",
      "  - Create a strong profile and offer free initial sessions.\n",
      "  - Build positive reviews and referrals.\n",
      "  - Consider creating your own tutoring website.\n",
      "\n",
      "### 9. **Print-on-Demand Products**\n",
      "- **Platforms:** Printful, Redbubble, Zazzle\n",
      "- **Products:** T-shirts, Mugs, Phone Cases, Wall Art\n",
      "- **Steps:**\n",
      "  - Choose a niche.\n",
      "  - Design products or collaborate with designers.\n",
      "  - Set up a store on a platform or your own website.\n",
      "  - Market your products through social media and SEO.\n",
      "\n",
      "### 10. **Micro-Tasking and Gig Economy**\n",
      "- **Platforms:** TaskRabbit, UserTesting, Amazon Mechanical Turk\n",
      "- **Tasks:** Data Entry, Surveys, User Testing, Transcription\n",
      "- **Steps:**\n",
      "  - Identify tasks you can perform.\n",
      "  - Create a strong profile and bid on tasks.\n",
      "  - Deliver high-quality work and build a positive reputation.\n",
      "  - Increase your earnings over time.\n",
      "\n",
      "### General Tips for Success\n",
      "1. **Niche Down:** Focus on a specific market or audience to stand out.\n",
      "2. **Build an Online Presence:** Create a strong website and social media profiles.\n",
      "3. **Network:** Join online communities, forums, and groups related to your niche.\n",
      "4. ** continuously Improve:** Learn and adapt to new trends and technologies.\n",
      "5. **Be Patient and Persistent:** Building a successful online business takes time and effort.\n",
      "\n",
      "By following these steps and tips, you can start and grow a successful online business with minimal startup capital and the flexibility to work from anywhere.\n"
     ]
    }
   ],
   "source": [
    "print(llm_output)"
   ]
  },
  {
   "cell_type": "code",
   "execution_count": null,
   "id": "e9722f62-bd3d-4a96-ba81-12811639e745",
   "metadata": {},
   "outputs": [],
   "source": []
  }
 ],
 "metadata": {
  "kernelspec": {
   "display_name": "Python 3 (ipykernel)",
   "language": "python",
   "name": "python3"
  },
  "language_info": {
   "codemirror_mode": {
    "name": "ipython",
    "version": 3
   },
   "file_extension": ".py",
   "mimetype": "text/x-python",
   "name": "python",
   "nbconvert_exporter": "python",
   "pygments_lexer": "ipython3",
   "version": "3.10.12"
  }
 },
 "nbformat": 4,
 "nbformat_minor": 5
}
