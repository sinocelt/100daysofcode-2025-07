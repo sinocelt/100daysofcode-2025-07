{
 "cells": [
  {
   "cell_type": "markdown",
   "id": "978b52eb-d93f-4014-b17a-4e9c695502a2",
   "metadata": {},
   "source": [
    "# <strong>Simple Ollama Usage Guide</strong>"
   ]
  },
  {
   "cell_type": "markdown",
   "id": "92d1c7ef-dd90-4a69-95c3-aebd793f557c",
   "metadata": {},
   "source": [
    "# What is Ollama?"
   ]
  },
  {
   "cell_type": "markdown",
   "id": "03e03bf8-0e65-40f1-aae2-ebe0596cb044",
   "metadata": {},
   "source": [
    "Ollama is a command line tool that allows you to use numerous open source LLM AI models, locally, on your own computer, without needing to connect to an external service such as ChatGPT, Claude, etc."
   ]
  },
  {
   "cell_type": "markdown",
   "id": "586e24b7-1ce1-40b6-9075-fab9e18da0c5",
   "metadata": {},
   "source": [
    "# Download and install Ollama"
   ]
  },
  {
   "cell_type": "markdown",
   "id": "e41f2d00-048f-4e29-9650-8110669260a9",
   "metadata": {},
   "source": [
    "The installation of ollama is very simple. Just go to the following URL, download the file, and follow the instructions:<br/>\n",
    "https://ollama.com/download"
   ]
  },
  {
   "cell_type": "markdown",
   "id": "d9467a28-95c0-4be7-966a-9a28b985d5c1",
   "metadata": {},
   "source": [
    "# Downloading AI models"
   ]
  },
  {
   "cell_type": "markdown",
   "id": "f3506307-9f54-4e57-92da-d060a2588be0",
   "metadata": {},
   "source": [
    "To download a specific AI model from ollama, you simply run a command like the following in the command line.<br/>\n",
    "`ollama pull model_name`"
   ]
  },
  {
   "cell_type": "markdown",
   "id": "41a32898-6942-453f-9377-ab66df892e45",
   "metadata": {},
   "source": [
    "For example, to download the tinyllama model, you would do:<br/>\n",
    "`ollama pull tinyllama`<br/>\n",
    "You can also find information about that model at:<br/>\n",
    "https://ollama.com/library/tinyllama"
   ]
  },
  {
   "cell_type": "markdown",
   "id": "2b47464d-8ee7-489f-97cc-8bfdd51db86e",
   "metadata": {},
   "source": [
    "# Searching for AI models"
   ]
  },
  {
   "cell_type": "markdown",
   "id": "a3b0567f-26de-4060-bfd6-fe8e8c22459d",
   "metadata": {},
   "source": [
    "You can search for AI models at:<br/>\n",
    "https://ollama.com/search"
   ]
  },
  {
   "cell_type": "code",
   "execution_count": null,
   "id": "df6bbbaf-0129-4510-89dd-f643a2a69962",
   "metadata": {},
   "outputs": [],
   "source": []
  }
 ],
 "metadata": {
  "kernelspec": {
   "display_name": "Python (.venv - useful-pandas-code)",
   "language": "python",
   "name": "useful-pandas-code"
  },
  "language_info": {
   "codemirror_mode": {
    "name": "ipython",
    "version": 3
   },
   "file_extension": ".py",
   "mimetype": "text/x-python",
   "name": "python",
   "nbconvert_exporter": "python",
   "pygments_lexer": "ipython3",
   "version": "3.10.12"
  }
 },
 "nbformat": 4,
 "nbformat_minor": 5
}
