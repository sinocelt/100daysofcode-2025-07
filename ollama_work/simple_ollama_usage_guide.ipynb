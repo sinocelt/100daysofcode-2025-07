{
 "cells": [
  {
   "cell_type": "markdown",
   "id": "978b52eb-d93f-4014-b17a-4e9c695502a2",
   "metadata": {},
   "source": [
    "# <strong>Simple Ollama Usage Guide</strong>"
   ]
  },
  {
   "cell_type": "markdown",
   "id": "92d1c7ef-dd90-4a69-95c3-aebd793f557c",
   "metadata": {},
   "source": [
    "# What is Ollama?"
   ]
  },
  {
   "cell_type": "markdown",
   "id": "03e03bf8-0e65-40f1-aae2-ebe0596cb044",
   "metadata": {},
   "source": [
    "Ollama is a command line tool that allows you to use numerous open source LLM AI models, locally, on your own computer, without needing to connect to an external service such as ChatGPT, Claude, etc."
   ]
  },
  {
   "cell_type": "markdown",
   "id": "586e24b7-1ce1-40b6-9075-fab9e18da0c5",
   "metadata": {},
   "source": [
    "# Download and install Ollama"
   ]
  },
  {
   "cell_type": "markdown",
   "id": "e41f2d00-048f-4e29-9650-8110669260a9",
   "metadata": {},
   "source": [
    "The installation of ollama is very simple. Just go to the following URL, download the file, and follow the instructions:<br/>\n",
    "https://ollama.com/download"
   ]
  },
  {
   "cell_type": "markdown",
   "id": "d9467a28-95c0-4be7-966a-9a28b985d5c1",
   "metadata": {},
   "source": [
    "# Downloading AI models"
   ]
  },
  {
   "cell_type": "markdown",
   "id": "f3506307-9f54-4e57-92da-d060a2588be0",
   "metadata": {},
   "source": [
    "To download a specific AI model from ollama, you simply run a command like the following in the command line.<br/>\n",
    "`ollama pull model_name`"
   ]
  },
  {
   "cell_type": "markdown",
   "id": "41a32898-6942-453f-9377-ab66df892e45",
   "metadata": {},
   "source": [
    "For example, to download the tinyllama model, you would do:<br/>\n",
    "`ollama pull tinyllama`<br/>\n",
    "You can also find information about that model at:<br/>\n",
    "https://ollama.com/library/tinyllama"
   ]
  },
  {
   "cell_type": "markdown",
   "id": "2b47464d-8ee7-489f-97cc-8bfdd51db86e",
   "metadata": {},
   "source": [
    "# Searching for AI Models"
   ]
  },
  {
   "cell_type": "markdown",
   "id": "a3b0567f-26de-4060-bfd6-fe8e8c22459d",
   "metadata": {},
   "source": [
    "You can search for AI models at:<br/>\n",
    "https://ollama.com/search"
   ]
  },
  {
   "cell_type": "markdown",
   "id": "84395553-4eeb-47ac-937a-3d5ca28fe185",
   "metadata": {},
   "source": [
    "# Running an AI Model with Ollama"
   ]
  },
  {
   "cell_type": "markdown",
   "id": "5061497c-3b5c-46ee-80a1-ba112debf878",
   "metadata": {},
   "source": [
    "Once you have downloaded any given AI model with ollama, you can run it with the following command:<br/>\n",
    "`ollama_run model_name`<br/>\n",
    "For example, to run the tinyllama model, you can use the following command:<br/>\n",
    "`ollama run tinyllama`"
   ]
  },
  {
   "cell_type": "markdown",
   "id": "95b732b3-682e-4b43-84c6-b478b7c9b752",
   "metadata": {},
   "source": [
    "# Example Usage of Ollama with an AI Model"
   ]
  },
  {
   "cell_type": "markdown",
   "id": "d621e4bc-ce60-438a-934b-f59a42553931",
   "metadata": {},
   "source": [
    "```\n",
    "ollama run tinyllama\n",
    "\n",
    ">>> teach me some of the best tips for how to do intermittent fasting successfully\n",
    "                                   \n",
    "Certainly! Intermittent fasting (IF) is a popular technique that involves scheduling periods of reduced calorie intake in tandem with regular exercise or no food at all. Here are some tips for successfully implementing IF:\n",
    "\n",
    "1. Plan your days ahead: Determine what times you will fast, and plan out the following week to make sure you're consistent throughout the day. Start by going without breakfast before setting aside specific meals during the fasting \n",
    "time, then gradually incorporating snacks into your routine over time.\n",
    "\n",
    "2. Create a calorie deficit: IF is typically done for the purpose of losing weight, so ensure that you have a calorie deficit in place. This means consuming fewer calories than you're expending throughout the day.\n",
    "\n",
    "3. Choose the right days and time: IF can be challenging at first, but over time, it becomes easier to stick with your routine. Consider which days of the week are most difficult for you, and find a time that works best for you.\n",
    "\n",
    "4. Stay hydrated: In addition to being mindful about what you eat, make sure to stay hydrated throughout the day with plenty of water or herbal tea. This can help ensure you're adequately nourished throughout your fasting period.\n",
    "\n",
    "5. Consult a healthcare professional: IF is a complex technique that requires careful consideration and planning. Before committing to it, it's always best to consult with a medical professional who can provide guidance and advice \n",
    "on how to incorporate IF into your lifestyle.\n",
    "\n",
    "6. Be patient: Remember that if you're new to IF, it may take some time to fully understand the benefits and adjust your routine accordingly. Be patient with yourself, and trust that as you become more comfortable with the \n",
    "technique, you'll find success.\n",
    "\n",
    ">>> \n",
    "\n",
    "```"
   ]
  },
  {
   "cell_type": "code",
   "execution_count": null,
   "id": "5cdef375-5c32-4418-85f1-c8009e73ee09",
   "metadata": {},
   "outputs": [],
   "source": []
  }
 ],
 "metadata": {
  "kernelspec": {
   "display_name": "Python (.venv - useful-pandas-code)",
   "language": "python",
   "name": "useful-pandas-code"
  },
  "language_info": {
   "codemirror_mode": {
    "name": "ipython",
    "version": 3
   },
   "file_extension": ".py",
   "mimetype": "text/x-python",
   "name": "python",
   "nbconvert_exporter": "python",
   "pygments_lexer": "ipython3",
   "version": "3.10.12"
  }
 },
 "nbformat": 4,
 "nbformat_minor": 5
}
