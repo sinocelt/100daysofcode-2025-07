{
 "cells": [
  {
   "cell_type": "markdown",
   "id": "7a75f331-e2fa-4aa8-a0a5-e7b558d71a29",
   "metadata": {
    "jp-MarkdownHeadingCollapsed": true
   },
   "source": [
    "# This shows how to transfer day from a Google Drive account to a VPS with headless mode with Rclone"
   ]
  },
  {
   "cell_type": "markdown",
   "id": "b30e06f5-3e86-42ac-8055-3329c70eaa31",
   "metadata": {},
   "source": [
    "# First make sure you have installed rclone\n",
    "https://rclone.org/downloads/"
   ]
  },
  {
   "cell_type": "markdown",
   "id": "3521c67d-6d28-4a8f-8657-4c4f7692c888",
   "metadata": {},
   "source": [
    "Make sure you have rclone installed both on your own computer AND on the VPS because it will be need for headless mode."
   ]
  },
  {
   "cell_type": "code",
   "execution_count": null,
   "id": "533a391d-2ee8-4f75-b262-ac80c7cde6a2",
   "metadata": {},
   "outputs": [],
   "source": []
  },
  {
   "cell_type": "markdown",
   "id": "0393b66c-c400-46fe-bae4-fa871ba7b3e0",
   "metadata": {},
   "source": [
    "## Set up rclone config"
   ]
  },
  {
   "cell_type": "markdown",
   "id": "3b797a80-0022-411d-9317-f5d0c13828ca",
   "metadata": {},
   "source": [
    "`rclone config`"
   ]
  },
  {
   "cell_type": "code",
   "execution_count": null,
   "id": "05c462c9-6c89-4a83-b353-4b48a1449d23",
   "metadata": {},
   "outputs": [],
   "source": []
  },
  {
   "cell_type": "markdown",
   "id": "5ac23f91-36fd-4866-9b92-54c1665d75fc",
   "metadata": {},
   "source": [
    "You might see something like the following:\n",
    "\n",
    "rclone config<br/>\n",
    "Current remotes:<br/>\n",
    "<br/>\n",
    "Name                 Type<br/>\n",
    "====                 ====<br/>\n",
    "\n",
    "e) Edit existing remote<br/>\n",
    "n) New remote<br/>\n",
    "d) Delete remote<br/>\n",
    "r) Rename remote<br/>\n",
    "c) Copy remote<br/>\n",
    "s) Set configuration password<br/>\n",
    "q) Quit config<br/>\n",
    "e/n/d/r/c/s/q><br/>"
   ]
  },
  {
   "cell_type": "markdown",
   "id": "03403a45-c0a2-479b-b456-41dddb989c2c",
   "metadata": {},
   "source": [
    "Choose `n` for new"
   ]
  },
  {
   "cell_type": "code",
   "execution_count": null,
   "id": "6cb6fc32-0714-4903-9024-e6ffa9d0665f",
   "metadata": {},
   "outputs": [],
   "source": []
  },
  {
   "cell_type": "markdown",
   "id": "c5ed99f3-f347-4530-a284-2f58c7d76c16",
   "metadata": {},
   "source": [
    "# Give it a name"
   ]
  },
  {
   "cell_type": "markdown",
   "id": "a89e7dd1-5e55-42c8-83bd-7ee2c72a72f6",
   "metadata": {},
   "source": [
    "It will ask for a name<br/>\n",
    "```Enter name for new remote.```"
   ]
  },
  {
   "cell_type": "markdown",
   "id": "20ec8ec5-7003-444d-8dca-6460cfb26f97",
   "metadata": {},
   "source": [
    "Give it a name, for example I might call it google-drive-example"
   ]
  },
  {
   "cell_type": "markdown",
   "id": "569ab9da-17a7-4dd4-a16d-a62563cd0a42",
   "metadata": {},
   "source": [
    "name> google-drive-example"
   ]
  },
  {
   "cell_type": "code",
   "execution_count": null,
   "id": "83738de9-a8b1-4509-aca8-9a0e327b53b7",
   "metadata": {},
   "outputs": [],
   "source": []
  },
  {
   "cell_type": "markdown",
   "id": "7c28c927-02cf-487e-9765-9e258eafd6af",
   "metadata": {},
   "source": [
    "# Choose Google Drive Option"
   ]
  },
  {
   "cell_type": "markdown",
   "id": "959d960b-5300-401a-af87-6b0577d996fd",
   "metadata": {},
   "source": [
    "Next, it will give ouptut like the following:"
   ]
  },
  {
   "cell_type": "markdown",
   "id": "33900880-1024-4fe8-9859-6531c1567d3f",
   "metadata": {},
   "source": [
    "Option Storage.<br/>\n",
    "Type of storage to configure.<br/>\n",
    "Choose a number from below, or type in your own value.<br/>\n",
    " 1 / 1Fichier<br/>\n",
    "   \\ (fichier)<br/>\n",
    " 2 / Akamai NetStorage<br/>\n",
    "   \\ (netstorage)<br/>\n",
    " 3 / Alias for an existing remote<br/>\n",
    "   \\ (alias)<br/>\n",
    " 4 / Amazon S3 Compliant Storage Providers including AWS, Alibaba, ArvanCloud, Ceph, ChinaMobile, Cloudflare, DigitalOcean, Dreamhost, Exaba, FlashBlade, GCS, HuaweiOBS, IBMCOS, IDrive, IONOS, LyveCloud, Leviia, Liara, Linode, Magalu, Mega, Minio, Netease, Outscale, Petabox, RackCorp, Rclone, Scaleway, SeaweedFS, Selectel, StackPath, Storj, Synology, TencentCOS, Wasabi, Qiniu and others\n",
    "   \\ (s3)<br/>\n",
    " 5 / Backblaze B2<br/>\n",
    "   \\ (b2)\n",
    " 6 / Better checksums for other remotes<br/>\n",
    "   \\ (hasher)<br/>\n",
    " 7 / Box<br/>\n",
    "   \\ (box)<br/>\n",
    " 8 / Cache a remote<br/>\n",
    "   \\ (cache)<br/>\n",
    " 9 / Citrix Sharefile<br/>\n",
    "   \\ (sharefile)<br/>\n",
    "10 / Cloudinary<br/>\n",
    "   \\ (cloudinary)<br/>\n",
    "11 / Combine several remotes into one<br/>\n",
    "   \\ (combine)<br/>\n",
    "12 / Compress a remote<br/>\n",
    "   \\ (compress)<br/>\n",
    "13 / DOI datasets<br/>\n",
    "   \\ (doi)<br/>\n",
    "14 / Dropbox<br/>\n",
    "   \\ (dropbox)<br/>\n",
    "15 / Encrypt/Decrypt a remote<br/>\n",
    "   \\ (crypt)<br/>\n",
    "16 / Enterprise File Fabric<br/>\n",
    "   \\ (filefabric)<br/>\n",
    "17 / FTP<br/>\n",
    "   \\ (ftp)<br/>\n",
    "18 / FileLu Cloud Storage<br/>\n",
    "   \\ (filelu)<br/>\n",
    "19 / Files.com<br/>\n",
    "   \\ (filescom)<br/>\n",
    "20 / Gofile<br/>\n",
    "   \\ (gofile)<br/>\n",
    "21 / Google Cloud Storage (this is not Google Drive)<br/>\n",
    "   \\ (google cloud storage)<br/>\n",
    "22 / Google Drive\n",
    "   \\ (drive)<br/>\n",
    "23 / Google Photos<br/>\n",
    "   \\ (google photos)<br/>\n",
    "24 / HTTP<br/>\n",
    "   \\ (http)<br/>\n",
    "25 / Hadoop distributed file system<br/>\n",
    "   \\ (hdfs)<br/>\n",
    "26 / HiDrive<br/>\n",
    "   \\ (hidrive)<br/>\n",
    "27 / ImageKit.io<br/>\n",
    "   \\ (imagekit)<br/>\n",
    "28 / In memory object storage system.<br/>\n",
    "   \\ (memory)<br/>\n",
    "29 / Internet Archive<br/>\n",
    "   \\ (internetarchive)<br/>\n",
    "30 / Jottacloud<br/>\n",
    "   \\ (jottacloud)<br/>\n",
    "31 / Koofr, Digi Storage and other Koofr-compatible storage providers<br/>\n",
    "   \\ (koofr)<br/>\n",
    "32 / Linkbox<br/>\n",
    "   \\ (linkbox)<br/>\n",
    "33 / Local Disk<br/>\n",
    "   \\ (local)<br/>\n",
    "34 / Mail.ru Cloud<br/>\n",
    "   \\ (mailru)<br/>\n",
    "35 / Mega<br/>\n",
    "   \\ (mega)<br/>\n",
    "36 / Microsoft Azure Blob Storage<br/>\n",
    "   \\ (azureblob)<br/>\n",
    "37 / Microsoft Azure Files<br/>\n",
    "   \\ (azurefiles)<br/>\n",
    "38 / Microsoft OneDrive<br/>\n",
    "   \\ (onedrive)<br/>\n",
    "39 / OpenDrive<br/>\n",
    "   \\ (opendrive)<br/>\n",
    "40 / OpenStack Swift (Rackspace Cloud Files, Blomp Cloud Storage, Memset Memstore, OVH)<br/>\n",
    "   \\ (swift)<br/>\n",
    "41 / Oracle Cloud Infrastructure Object Storage<br/>\n",
    "   \\ (oracleobjectstorage)<br/>\n",
    "42 / Pcloud<br/>\n",
    "   \\ (pcloud)<br/>\n",
    "43 / PikPak<br/>\n",
    "   \\ (pikpak)<br/>\n",
    "44 / Pixeldrain Filesystem<br/>\n",
    "   \\ (pixeldrain)<br/>\n",
    "45 / Proton Drive<br/>\n",
    "   \\ (protondrive)<br/>\n",
    "46 / Put.io<br/>\n",
    "   \\ (putio)<br/>\n",
    "47 / QingCloud Object Storage<br/>\n",
    "   \\ (qingstor)<br/>\n",
    "48 / Quatrix by Maytech<br/>\n",
    "   \\ (quatrix)<br/>\n",
    "49 / SMB / CIFS<br/>\n",
    "   \\ (smb)<br/>\n",
    "50 / SSH/SFTP<br/>\n",
    "   \\ (sftp)<br/>\n",
    "51 / Sia Decentralized Cloud<br/>\n",
    "   \\ (sia)<br/>\n",
    "52 / Storj Decentralized Cloud Storage<br/>\n",
    "   \\ (storj)<br/>\n",
    "53 / Sugarsync<br/>\n",
    "   \\ (sugarsync)<br/>\n",
    "54 / Transparently chunk/split large files<br/>\n",
    "   \\ (chunker)<br/>\n",
    "55 / Uloz.to<br/>\n",
    "   \\ (ulozto)<br/>\n",
    "56 / Union merges the contents of several upstream fs<br/>\n",
    "   \\ (union)<br/>\n",
    "57 / Uptobox<br/>\n",
    "   \\ (uptobox)<br/>\n",
    "58 / WebDAV<br/>\n",
    "   \\ (webdav)<br/>\n",
    "59 / Yandex Disk<br/>\n",
    "   \\ (yandex)<br/>\n",
    "60 / Zoho<br/>\n",
    "   \\ (zoho)<br/>\n",
    "61 / iCloud Drive<br/>\n",
    "   \\ (iclouddrive)<br/>\n",
    "62 / premiumize.me<br/>\n",
    "   \\ (premiumizeme)<br/>\n",
    "63 / seafile<br/>\n",
    "   \\ (seafile)<br/>\n",
    "Storage> <br/>"
   ]
  },
  {
   "cell_type": "markdown",
   "id": "e2c245b7-5c02-4fc9-9271-5edd196ca901",
   "metadata": {},
   "source": [
    "In my case, it was option 22"
   ]
  },
  {
   "cell_type": "markdown",
   "id": "905d43b8-f1be-45d5-b78d-e68317ce6991",
   "metadata": {},
   "source": [
    "Storage> 22"
   ]
  },
  {
   "cell_type": "code",
   "execution_count": null,
   "id": "5249c77e-c23e-41fd-a3b4-6c2731240a5f",
   "metadata": {},
   "outputs": [],
   "source": []
  },
  {
   "cell_type": "markdown",
   "id": "28f02c31-f4e3-40aa-ae52-1925d6c30863",
   "metadata": {},
   "source": [
    "# Option client_id."
   ]
  },
  {
   "cell_type": "markdown",
   "id": "0c394008-e0c6-4298-beea-e7513e9727ba",
   "metadata": {},
   "source": [
    "You can go with the default and just hit `enter` on your keyboard"
   ]
  },
  {
   "cell_type": "markdown",
   "id": "9da474e7-041c-4746-b047-7ce1a8580c8a",
   "metadata": {},
   "source": [
    "Option client_id.<br/>\n",
    "Google Application Client Id<br/>\n",
    "Setting your own is recommended.<br/>\n",
    "See https://rclone.org/drive/#making-your-own-client-id for how to create your own.<br/>\n",
    "If you leave this blank, it will use an internal key which is low performance.<br/>\n",
    "Enter a value. Press Enter to leave empty.<br/>\n",
    "client_id> "
   ]
  },
  {
   "cell_type": "code",
   "execution_count": null,
   "id": "af688d38-cce3-47bf-978c-9234ef570dab",
   "metadata": {},
   "outputs": [],
   "source": []
  },
  {
   "cell_type": "markdown",
   "id": "3a2c37a9-c685-42e9-87c4-20063f7a7612",
   "metadata": {},
   "source": [
    "Storage> 22<br/>\n",
    "<br/>\n",
    "Option client_id.<br/>\n",
    "Google Application Client Id<br/>\n",
    "Setting your own is recommended.<br/>\n",
    "See https://rclone.org/drive/#making-your-own-client-id for how to create your own.<br/>\n",
    "If you leave this blank, it will use an internal key which is low performance.<br/>\n",
    "Enter a value. Press Enter to leave empty.<br/>\n",
    "client_id> "
   ]
  },
  {
   "cell_type": "markdown",
   "id": "24129f2b-adb6-4aa5-bad7-545b6acad196",
   "metadata": {},
   "source": [
    "You can just hit `enter` on your keyboard to go with the default"
   ]
  },
  {
   "cell_type": "code",
   "execution_count": 2,
   "id": "2b8804b9-dbde-4c0b-8dbc-e15348b463ec",
   "metadata": {},
   "outputs": [
    {
     "ename": "SyntaxError",
     "evalue": "invalid syntax (188848021.py, line 1)",
     "output_type": "error",
     "traceback": [
      "\u001b[0;36m  Cell \u001b[0;32mIn[2], line 1\u001b[0;36m\u001b[0m\n\u001b[0;31m    Enter a value. Press Enter to leave empty. <br/>\u001b[0m\n\u001b[0m          ^\u001b[0m\n\u001b[0;31mSyntaxError\u001b[0m\u001b[0;31m:\u001b[0m invalid syntax\n"
     ]
    }
   ],
   "source": [
    "Enter a value. Press Enter to leave empty. <br/>\n",
    "client_id> "
   ]
  },
  {
   "cell_type": "code",
   "execution_count": null,
   "id": "47585520-d20b-4bd2-8104-1d15722e9704",
   "metadata": {},
   "outputs": [],
   "source": []
  },
  {
   "cell_type": "markdown",
   "id": "6007a584-4598-4c62-9d42-efe7c5da7179",
   "metadata": {},
   "source": [
    "# Oauth secret"
   ]
  },
  {
   "cell_type": "markdown",
   "id": "dc813507-ccdc-4d88-b541-8011e2a6fd00",
   "metadata": {},
   "source": [
    "You can go with the default and just hit `enter` on your keyboard"
   ]
  },
  {
   "cell_type": "markdown",
   "id": "c2eef067-3467-4252-b0ca-f49b3d80b46b",
   "metadata": {},
   "source": [
    "Option client_secret.<br/>\n",
    "OAuth Client Secret.<br/>\n",
    "Leave blank normally.<br/>\n",
    "Enter a value. Press Enter to leave empty.<br/>\n",
    "client_secret> <br/>"
   ]
  },
  {
   "cell_type": "code",
   "execution_count": null,
   "id": "78eb4a6a-4845-4eb4-a45e-d70c4a69078c",
   "metadata": {},
   "outputs": [],
   "source": []
  },
  {
   "cell_type": "markdown",
   "id": "11e00bfc-4347-4360-ba70-a7cc406e370f",
   "metadata": {},
   "source": [
    "# Choose option scope"
   ]
  },
  {
   "cell_type": "markdown",
   "id": "cb15f8e0-6cd2-4a14-a9bb-aa49ea863f67",
   "metadata": {},
   "source": [
    "For syncing all files from Google, I recommend choosing the option with `Full access all files, excluding Application Data folder.`"
   ]
  },
  {
   "cell_type": "markdown",
   "id": "062c00ac-bf43-40d4-9349-e7ca39d3b1c2",
   "metadata": {},
   "source": [
    "The options are seen as below\n",
    "Option scope.<br/>\n",
    "Comma separated list of scopes that rclone should use when requesting access from drive.<br/>\n",
    "Choose a number from below, or type in your own value.<br/>\n",
    "Press Enter to leave empty.<br/>\n",
    " 1 / Full access all files, excluding Application Data Folder.<br/>\n",
    "   \\ (drive)<br/>\n",
    " 2 / Read-only access to file metadata and file contents.<br/>\n",
    "   \\ (drive.readonly)<br/>\n",
    "   / Access to files created by rclone only.<br/>\n",
    " 3 | These are visible in the drive website.<br/>\n",
    "   | File authorization is revoked when the user deauthorizes the app.<br/>\n",
    "   \\ (drive.file)<br/>\n",
    "   / Allows read and write access to the Application Data folder.<br/>\n",
    " 4 | This is not visible in the drive website.<br/>\n",
    "   \\ (drive.appfolder)<br/>\n",
    "   / Allows read-only access to file metadata but<br/>\n",
    " 5 | does not allow any access to read or download file content.<br/>\n",
    "   \\ (drive.metadata.readonly)<br/>\n"
   ]
  },
  {
   "cell_type": "markdown",
   "id": "6fac83ad-58cc-415b-9bf6-61157905b1de",
   "metadata": {},
   "source": [
    "scope> 1"
   ]
  },
  {
   "cell_type": "code",
   "execution_count": null,
   "id": "fb465ee9-25be-4d48-a196-778727f579e6",
   "metadata": {},
   "outputs": [],
   "source": []
  },
  {
   "cell_type": "markdown",
   "id": "d00ff500-c852-4c11-ae56-afcae2852ed2",
   "metadata": {},
   "source": [
    "# Option service_account_file."
   ]
  },
  {
   "cell_type": "markdown",
   "id": "35fef3e8-daa3-4a52-a440-89eb7b071a22",
   "metadata": {},
   "source": [
    "You can go with the default for this one and just hit `enter` on your keyboard"
   ]
  },
  {
   "cell_type": "markdown",
   "id": "01bca9ed-9b57-46ce-ba53-d6ae6c4d633c",
   "metadata": {},
   "source": [
    "Option service_account_file.<br/>\n",
    "Service Account Credentials JSON file path.<br/>\n",
    "Leave blank normally.<br/>\n",
    "Needed only if you want use SA instead of interactive login.<br/>\n",
    "Leading `~` will be expanded in the file name as will environment variables such as `${RCLONE_CONFIG_DIR}`.<br/>\n",
    "Enter a value. Press Enter to leave empty.<br/>\n",
    "service_account_file>"
   ]
  },
  {
   "cell_type": "code",
   "execution_count": null,
   "id": "947742cf-4d1d-489e-a391-7da83c752072",
   "metadata": {},
   "outputs": [],
   "source": []
  },
  {
   "cell_type": "markdown",
   "id": "eaf2a8d4-0ef7-4320-b300-e2133d07783e",
   "metadata": {},
   "source": [
    "# Edit advanced config?"
   ]
  },
  {
   "cell_type": "markdown",
   "id": "5322d465-bfa1-4f83-af0e-6c1deb917e4a",
   "metadata": {},
   "source": [
    "You can go with the default for this one and just hit `enter` on your keyboard"
   ]
  },
  {
   "cell_type": "markdown",
   "id": "6818913b-0634-4d06-a564-88e44e376752",
   "metadata": {},
   "source": [
    "Edit advanced config?<br/>\n",
    "y) Yes<br/>\n",
    "n) No (default)<br/>\n",
    "y/n>"
   ]
  },
  {
   "cell_type": "code",
   "execution_count": null,
   "id": "7406c2b2-516b-4ad7-b70b-0dd0c7755af4",
   "metadata": {},
   "outputs": [],
   "source": []
  },
  {
   "cell_type": "markdown",
   "id": "728c264a-d521-4b2e-ba65-7802f1cdfb5b",
   "metadata": {},
   "source": [
    "# ⚠️⚠️⚠️ Key point to pay attention to"
   ]
  },
  {
   "cell_type": "markdown",
   "id": "284f8939-4a46-4956-9ee6-e22164da81d7",
   "metadata": {},
   "source": [
    "# Use web browser to automatically authenticate rclone with remote?"
   ]
  },
  {
   "cell_type": "markdown",
   "id": "46ba6e5f-18eb-4eeb-9cbd-67ad28829abf",
   "metadata": {},
   "source": [
    "If you are going to connect rclone to your own computer you are currently using, you can just go with the default or hit `y`. But, if you are using a VPS such as with digital ocean and want to sync the Google Drive data directly to your VPS, you should choose option `n` for no."
   ]
  },
  {
   "cell_type": "markdown",
   "id": "a2434693-b476-4fb3-abe8-621a175e87e2",
   "metadata": {},
   "source": [
    "I am assuming you will be choosing `n` for no, or that you are \"running rclone on a (remote) machine without web browser access\""
   ]
  },
  {
   "cell_type": "markdown",
   "id": "d20fc770-e71e-4024-ba00-31c35c85c768",
   "metadata": {},
   "source": [
    "Use web browser to automatically authenticate rclone with remote?<br/>\n",
    " * Say Y if the machine running rclone has a web browser you can use<br/>\n",
    " * Say N if running rclone on a (remote) machine without web browser access<br/>\n",
    "If not sure try Y. If Y failed, try N.<br/>\n",
    "<br/>\n",
    "y) Yes (default)<br/>\n",
    "n) No<br/>"
   ]
  },
  {
   "cell_type": "markdown",
   "id": "5b0fb82e-6468-4007-8c39-a47ad10d0f7d",
   "metadata": {},
   "source": [
    "Choose `n` for no if you want to set up rclone on a VPS"
   ]
  },
  {
   "cell_type": "markdown",
   "id": "6749e317-81e6-4f75-b1e7-65c1582696c7",
   "metadata": {},
   "source": [
    "y/n> n"
   ]
  },
  {
   "cell_type": "code",
   "execution_count": null,
   "id": "6965aedb-2b30-4e3d-b303-bc69fb9de9f1",
   "metadata": {},
   "outputs": [],
   "source": []
  },
  {
   "cell_type": "markdown",
   "id": "3f21014f-8648-41f5-aeea-47365effb9de",
   "metadata": {},
   "source": [
    "# Below I will assume you chose option `n` above for remote. Modify the following steps if you chose the default option or `y` above"
   ]
  },
  {
   "cell_type": "markdown",
   "id": "321b0052-7171-425f-af7a-97c5a967d3c5",
   "metadata": {},
   "source": [
    "Next, rclone will ask you to run a command on you need to type onto your own local computer (NOT the VPS)\n",
    "\n",
    "something like the following."
   ]
  },
  {
   "cell_type": "markdown",
   "id": "a5f77aa2-1c8e-4d38-a237-989b42969cc7",
   "metadata": {},
   "source": [
    "Option config_token.<br/>\n",
    "For this to work, you will need rclone available on a machine that has<br/>\n",
    "a web browser available.<br/>\n",
    "For more help and alternate methods see: https://rclone.org/remote_setup/<br/>\n",
    "Execute the following on the machine with the web browser (same rclone<br/>\n",
    "version recommended):<br/>\n",
    "\trclone authorize \"drive\" \"qzw8302llqiodjhadlqoKd3\"<br/>\n",
    "Then paste the result.<br/>\n",
    "Enter a value.<br/>\n",
    "config_token> <br/>"
   ]
  },
  {
   "cell_type": "markdown",
   "id": "20a7697a-e639-4115-96a2-9053827ba2d4",
   "metadata": {},
   "source": [
    "In your `own` computer, not the VPS, you actually can just type a command like the following"
   ]
  },
  {
   "cell_type": "markdown",
   "id": "3fdaf4b9-cd6f-4337-bec6-4e4751ac9be5",
   "metadata": {},
   "source": [
    "`rclone authorize \"drive\"`"
   ]
  },
  {
   "cell_type": "code",
   "execution_count": null,
   "id": "1801490e-e126-408f-9631-129e99646925",
   "metadata": {},
   "outputs": [],
   "source": []
  },
  {
   "cell_type": "markdown",
   "id": "10450f95-c79f-4030-98e3-38f98a399451",
   "metadata": {},
   "source": [
    "You should also see output like the following:"
   ]
  },
  {
   "cell_type": "markdown",
   "id": "4ee549e3-a88c-405f-a796-85203b79498a",
   "metadata": {},
   "source": [
    "# A Google login page will open in your local browser"
   ]
  },
  {
   "cell_type": "markdown",
   "id": "c68aa38a-3e2c-43e7-b361-1c55b52a0886",
   "metadata": {},
   "source": [
    "It should open up your default browser and redirect to Google. If it doesn't, you could just copy the url, like above\n",
    "<br/>\n",
    "for example:<br/>\n",
    "http://127.0.0.1:53682/auth?state=64qikd810kdlaKIlqkkd_2<br/>\n",
    "into your browser<br/>"
   ]
  },
  {
   "cell_type": "code",
   "execution_count": null,
   "id": "6ee217bf-21fc-4009-abf3-06f094cb43b2",
   "metadata": {},
   "outputs": [],
   "source": []
  },
  {
   "cell_type": "markdown",
   "id": "9b3427b5-8fd2-4248-9e48-8fef0ed2cd9a",
   "metadata": {},
   "source": [
    "You also should see a message something like<br/>\n",
    "`Choose an account`<br/>\n",
    "<br/>\n",
    "and below that<br/>\n",
    "`to continue to rclone`"
   ]
  },
  {
   "cell_type": "markdown",
   "id": "aa9f2ba3-4456-4f10-a473-d46ec5dd2536",
   "metadata": {},
   "source": [
    "# Log into the Google account you want to use"
   ]
  },
  {
   "cell_type": "markdown",
   "id": "da1b66f2-b86d-4d98-b38d-55f49d9126ea",
   "metadata": {},
   "source": [
    "Then approve rclone. You should see a message like the following:"
   ]
  },
  {
   "cell_type": "markdown",
   "id": "47e4f516-7e7b-4577-8303-1912f1a7bf2b",
   "metadata": {},
   "source": [
    "`rclone wants access to your Google Account`"
   ]
  },
  {
   "cell_type": "markdown",
   "id": "9e93f8c3-63e8-4dbb-9a1d-4a51fe63f5a5",
   "metadata": {},
   "source": [
    "Click on `Continue` or what the page asks for."
   ]
  },
  {
   "cell_type": "code",
   "execution_count": null,
   "id": "63b54e00-ebd6-4767-8ae8-d2330cdf517b",
   "metadata": {},
   "outputs": [],
   "source": []
  },
  {
   "cell_type": "markdown",
   "id": "a20a74b8-addf-4226-8a0b-3a9baada9c0b",
   "metadata": {},
   "source": [
    "# What if it fails with Google giving permission to rclone?"
   ]
  },
  {
   "cell_type": "markdown",
   "id": "7ca6193c-5c8e-4f39-bad6-0dab10bc37c6",
   "metadata": {},
   "source": [
    "Try another browser. You can copy the url that was generated, for example in Firefox, and copy it into Google Chrome or another browser to try to give rclone access"
   ]
  },
  {
   "cell_type": "code",
   "execution_count": null,
   "id": "fc98dbcf-0d7c-4986-9fb6-188e11722f8f",
   "metadata": {},
   "outputs": [],
   "source": []
  },
  {
   "cell_type": "markdown",
   "id": "8c60de4f-d4fb-462d-9d01-38c3bffd2676",
   "metadata": {},
   "source": [
    "# A Successful rclone connection"
   ]
  },
  {
   "cell_type": "markdown",
   "id": "7e783bd2-ec93-4026-bbfc-6487e039121a",
   "metadata": {},
   "source": [
    "If it was successful allowing rclone permissions to your Google Drive account you should see a message in your browser like below:"
   ]
  },
  {
   "cell_type": "markdown",
   "id": "9b1f307f-a871-4524-9336-d8a2b5f0b048",
   "metadata": {},
   "source": [
    "Success!<br/>\n",
    "<br/>\n",
    "All done. Please go back to rclone.<br/>"
   ]
  },
  {
   "cell_type": "markdown",
   "id": "79a51103-5a35-40f2-b6f1-3b3dc6add07b",
   "metadata": {},
   "source": [
    "In your terminal, it should say something like\n",
    "```\n",
    "Got code\n",
    "Paste the following into your remote machine --->\n",
    "{\"access_token\":\"ya29.a0AfH6SMCiBvX3Z9eRlUUpcDQHkXe9vLoM7kRcX12KvLbEtQykhCqjvLg3ZcR71PBo4QayYl4H3c_9xqFG2Bxv7qSpJHLWj6VwOyL4EWRUvEYThtB1oHZ1DXy6OJ2CgPjv_fvEKRlsXQo1X2eQ9YZ4hMKAZg13pP9NeQv2kUYTkaCgYKAeYSAQASFQG1pZgXxMjnKZWvQ1dZb8yQlWrVQg0164\",\"token_type\":\"Bearer\",\"refresh_token\":\"1//06sDfGhRtyUqQCGYIARAAGBASNwF-L9IrLjeLmwFzzPq9MkYXykX1NkDE5FSVm8PMZbV3a7ZxCZPdMfLNL2qDg6NmhG6RfYgbZ8d\",\"expiry\":\"2025-08-07T02:47:18.768391217-05:00\"}\n",
    "<---End paste\n",
    "```"
   ]
  },
  {
   "cell_type": "markdown",
   "id": "b65c4988-7abf-4de5-893c-f943b8802d41",
   "metadata": {},
   "source": [
    "What you will do is need to copy the entire part starting with `{` and ending with `}`"
   ]
  },
  {
   "cell_type": "markdown",
   "id": "481bb441-d6c0-421b-b529-cbda54153a62",
   "metadata": {},
   "source": [
    "So in this example, I would copy \n",
    "```{\"access_token\":\"ya29.a0AfH6SMCiBvX3Z9eRlUUpcDQHkXe9vLoM7kRcX12KvLbEtQykhCqjvLg3ZcR71PBo4QayYl4H3c_9xqFG2Bxv7qSpJHLWj6VwOyL4EWRUvEYThtB1oHZ1DXy6OJ2CgPjv_fvEKRlsXQo1X2eQ9YZ4hMKAZg13pP9NeQv2kUYTkaCgYKAeYSAQASFQG1pZgXxMjnKZWvQ1dZb8yQlWrVQg0164\",\"token_type\":\"Bearer\",\"refresh_token\":\"1//06sDfGhRtyUqQCGYIARAAGBASNwF-L9IrLjeLmwFzzPq9MkYXykX1NkDE5FSVm8PMZbV3a7ZxCZPdMfLNL2qDg6NmhG6RfYgbZ8d\",\"expiry\":\"2025-08-07T02:47:18.768391217-05:00\"}```"
   ]
  },
  {
   "cell_type": "markdown",
   "id": "73fbc042-575f-46d0-9a3e-d4bb30b2202e",
   "metadata": {},
   "source": [
    "# Copy the value you copied above into rclone  on the VPS"
   ]
  },
  {
   "cell_type": "markdown",
   "id": "207d6923-3af7-423d-bc7c-31395a20aa2c",
   "metadata": {},
   "source": [
    "back on the VPS in rclone, it should say something like:"
   ]
  },
  {
   "cell_type": "markdown",
   "id": "2ccf5620-7d93-4fb2-9e45-76984a4a2435",
   "metadata": {},
   "source": [
    "Option config_token.<br/>\n",
    "For this to work, you will need rclone available on a machine that has<br/>\n",
    "a web browser available.<br/>\n",
    "For more help and alternate methods see: https://rclone.org/remote_setup/<br/>\n",
    "Execute the following on the machine with the web browser (same rclone<br/>\n",
    "version recommended):<br/>\n",
    "\trclone authorize \"drive\" \"qzw8302llqiodjhadlqoKd3\"<br/>\n",
    "Then paste the result.<br/>\n",
    "Enter a value.<br/>"
   ]
  },
  {
   "cell_type": "markdown",
   "id": "b8c43c4c-abc9-456f-b522-6f20b4f87e87",
   "metadata": {},
   "source": [
    "You will copy the full value as mentioned above, starting with the `{` and ending with the `}`"
   ]
  },
  {
   "cell_type": "markdown",
   "id": "9a8f6beb-c1e2-4bcc-b195-65a0d58200f4",
   "metadata": {},
   "source": [
    "# ⚠️⚠️⚠️ Reminder: you are copying the value you got generated from your OWN computer in rclone into the VPS in rclone"
   ]
  },
  {
   "cell_type": "markdown",
   "id": "10ce21b7-a2ee-4c6d-9e23-f801fe899353",
   "metadata": {},
   "source": [
    "Below is an example of what it might look like on a VPS in rclone"
   ]
  },
  {
   "cell_type": "markdown",
   "id": "f4aef8ba-00da-4577-a36d-71c4e25106c1",
   "metadata": {},
   "source": [
    "Option config_token.<br/>\n",
    "For this to work, you will need rclone available on a machine that has<br/>\n",
    "a web browser available.<br/>\n",
    "For more help and alternate methods see: https://rclone.org/remote_setup/<br/>\n",
    "Execute the following on the machine with the web browser (same rclone<br/>\n",
    "version recommended):<br/>\n",
    "\trclone authorize \"drive\" \"qzw8302llqiodjhadlqoKd3\"<br/>\n",
    "Then paste the result.<br/>\n",
    "Enter a value.<br/>\n",
    "config_token> {\"access_token\":\"ya29.a0AfH6SMCiBvX3Z9eRlUUpcDQHkXe9vLoM7kRcX12KvLbEtQykhCqjvLg3ZcR71PBo4QayYl4H3c_9xqFG2Bxv7qSpJHLWj6VwOyL4EWRUvEYThtB1oHZ1DXy6OJ2CgPjv_fvEKRlsXQo1X2eQ9YZ4hMKAZg13pP9NeQv2kUYTkaCgYKAeYSAQASFQG1pZgXxMjnKZWvQ1dZb8yQlWrVQg0164\",\"token_type\":\"Bearer\",\"refresh_token\":\"1//06sDfGhRtyUqQCGYIARAAGBASNwF-L9IrLjeLmwFzzPq9MkYXykX1NkDE5FSVm8PMZbV3a7ZxCZPdMfLNL2qDg6NmhG6RfYgbZ8d\",\"expiry\":\"2025-08-07T02:47:18.768391217-05:00\"}\n"
   ]
  },
  {
   "cell_type": "code",
   "execution_count": null,
   "id": "9251370b-4b29-4e99-960b-4c16775db7a3",
   "metadata": {},
   "outputs": [],
   "source": []
  },
  {
   "cell_type": "markdown",
   "id": "5b2e64e9-685f-4e2a-ba85-1a77d905ff5c",
   "metadata": {},
   "source": [
    "# Configure this as a Shared Drive (Team Drive)?"
   ]
  },
  {
   "cell_type": "markdown",
   "id": "22908502-8ad5-46ff-a843-41bfbf79247c",
   "metadata": {},
   "source": [
    "Assuming the above was successful, you should see a message like the following"
   ]
  },
  {
   "cell_type": "code",
   "execution_count": null,
   "id": "23598c20-3e74-4b99-b416-104a2a19e931",
   "metadata": {},
   "outputs": [],
   "source": []
  },
  {
   "cell_type": "markdown",
   "id": "486d1a61-8b37-4ede-8ad2-e4cb9551cd6c",
   "metadata": {},
   "source": [
    "Configure this as a Shared Drive (Team Drive)?<br/>\n",
    "<br/>\n",
    "y) Yes<br/>\n",
    "n) No (default)<br/>\n",
    "y/n> Configure this as a Shared Drive (Team Drive)?<br/>\n",
    "y/n>"
   ]
  },
  {
   "cell_type": "markdown",
   "id": "9b7da698-4900-4054-b3cc-bdd91c5140c0",
   "metadata": {},
   "source": [
    "You can go with the default for this one and just hit `enter` on your keyboard"
   ]
  },
  {
   "cell_type": "markdown",
   "id": "f687ebb9-0f32-485f-8f1b-c062ab8a098d",
   "metadata": {},
   "source": [
    "# Configuration complete"
   ]
  },
  {
   "cell_type": "markdown",
   "id": "7540ab5c-731c-44b0-9800-96a0e6c06241",
   "metadata": {},
   "source": [
    "If all setps worked, you should see a message like the following:"
   ]
  },
  {
   "cell_type": "markdown",
   "id": "66420500-6942-435d-a112-e7ab12f9ee32",
   "metadata": {},
   "source": [
    "Configuration complete.<br/>\n",
    "<br/>\n",
    "...<br/>\n",
    "Keep this \"google-drive-example\" remote?<br/>\n",
    "y) Yes this is OK (default)<br/>\n",
    "e) Edit this remote<br/>\n",
    "d) Delete this remote<br/><br/>\n",
    "y/e/d> <br/>"
   ]
  },
  {
   "cell_type": "markdown",
   "id": "8e486b97-d57a-4cd8-b3a3-54c26c7823ff",
   "metadata": {},
   "source": [
    "It might also print the access token information as well"
   ]
  },
  {
   "cell_type": "code",
   "execution_count": null,
   "id": "cbe31d43-3e02-47aa-bcce-789be6081077",
   "metadata": {},
   "outputs": [],
   "source": []
  },
  {
   "cell_type": "markdown",
   "id": "54fd688e-d292-4e9b-83d4-b045856ad813",
   "metadata": {},
   "source": [
    "# Quit rclone config"
   ]
  },
  {
   "cell_type": "markdown",
   "id": "1a4c6672-f3b3-4840-b671-cef573b1d396",
   "metadata": {},
   "source": [
    "You should see an output like the following at the end:"
   ]
  },
  {
   "cell_type": "markdown",
   "id": "e4cff591-19c7-4ba4-acb3-db17dc6cb81c",
   "metadata": {},
   "source": [
    "e) Edit existing remote<br/>\n",
    "n) New remote<br/>\n",
    "d) Delete remote<br/>\n",
    "r) Rename remote<br/>\n",
    "c) Copy remote<br/>\n",
    "s) Set configuration password<br/>\n",
    "q) Quit config<br/>"
   ]
  },
  {
   "cell_type": "markdown",
   "id": "a31b47e6-a866-4cc9-950d-1460b254b4c6",
   "metadata": {},
   "source": [
    "Now we can quit rclone configuration by typing `q`"
   ]
  },
  {
   "cell_type": "markdown",
   "id": "f2716271-df70-4617-bca5-f8a3b6577754",
   "metadata": {},
   "source": [
    "`e/n/d/r/c/s/q> q`"
   ]
  },
  {
   "cell_type": "code",
   "execution_count": null,
   "id": "5ef71286-c65a-4da3-a23c-6f81beb85e13",
   "metadata": {},
   "outputs": [],
   "source": []
  },
  {
   "cell_type": "code",
   "execution_count": null,
   "id": "c4b33584-e2bd-443f-b94c-9fd67ca4f341",
   "metadata": {},
   "outputs": [],
   "source": []
  },
  {
   "cell_type": "code",
   "execution_count": null,
   "id": "8a1f1ce1-ed74-4377-ac43-2370b6ae94e7",
   "metadata": {},
   "outputs": [],
   "source": []
  },
  {
   "cell_type": "code",
   "execution_count": null,
   "id": "d4bb2a2f-de85-421c-8fb6-f397d5dddf68",
   "metadata": {},
   "outputs": [],
   "source": []
  },
  {
   "cell_type": "code",
   "execution_count": null,
   "id": "68e127e0-c35e-4e2d-939e-591775f9af0f",
   "metadata": {},
   "outputs": [],
   "source": []
  },
  {
   "cell_type": "code",
   "execution_count": null,
   "id": "c0067ca8-bc84-49d5-b38a-13461c49ed73",
   "metadata": {},
   "outputs": [],
   "source": []
  },
  {
   "cell_type": "code",
   "execution_count": null,
   "id": "31ed461a-00e4-4eac-b159-82428a7eaf49",
   "metadata": {},
   "outputs": [],
   "source": []
  },
  {
   "cell_type": "code",
   "execution_count": null,
   "id": "6b213279-72a6-402b-a3a8-5c5638d1ecb1",
   "metadata": {},
   "outputs": [],
   "source": []
  }
 ],
 "metadata": {
  "kernelspec": {
   "display_name": "Python (.venv - useful-pandas-code)",
   "language": "python",
   "name": "useful-pandas-code"
  },
  "language_info": {
   "codemirror_mode": {
    "name": "ipython",
    "version": 3
   },
   "file_extension": ".py",
   "mimetype": "text/x-python",
   "name": "python",
   "nbconvert_exporter": "python",
   "pygments_lexer": "ipython3",
   "version": "3.10.12"
  }
 },
 "nbformat": 4,
 "nbformat_minor": 5
}
