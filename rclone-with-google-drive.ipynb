{
 "cells": [
  {
   "cell_type": "markdown",
   "id": "7a75f331-e2fa-4aa8-a0a5-e7b558d71a29",
   "metadata": {
    "jp-MarkdownHeadingCollapsed": true
   },
   "source": [
    "# This shows how to transfer day from a Google Drive account to a VPS with headless mode with Rclone"
   ]
  },
  {
   "cell_type": "markdown",
   "id": "b30e06f5-3e86-42ac-8055-3329c70eaa31",
   "metadata": {},
   "source": [
    "# First make sure you have installed rclone\n",
    "https://rclone.org/downloads/"
   ]
  },
  {
   "cell_type": "code",
   "execution_count": null,
   "id": "ffa6f8a2-c619-4cc6-8645-674564ac75e0",
   "metadata": {},
   "outputs": [],
   "source": []
  },
  {
   "cell_type": "markdown",
   "id": "0393b66c-c400-46fe-bae4-fa871ba7b3e0",
   "metadata": {},
   "source": [
    "## Set up rclone config"
   ]
  },
  {
   "cell_type": "markdown",
   "id": "3b797a80-0022-411d-9317-f5d0c13828ca",
   "metadata": {},
   "source": [
    "`rclone config`"
   ]
  },
  {
   "cell_type": "code",
   "execution_count": null,
   "id": "05c462c9-6c89-4a83-b353-4b48a1449d23",
   "metadata": {},
   "outputs": [],
   "source": []
  },
  {
   "cell_type": "markdown",
   "id": "5ac23f91-36fd-4866-9b92-54c1665d75fc",
   "metadata": {},
   "source": [
    "You might see something like the following:\n",
    "\n",
    "rclone config<br/>\n",
    "Current remotes:<br/>\n",
    "<br/>\n",
    "Name                 Type<br/>\n",
    "====                 ====<br/>\n",
    "\n",
    "e) Edit existing remote<br/>\n",
    "n) New remote<br/>\n",
    "d) Delete remote<br/>\n",
    "r) Rename remote<br/>\n",
    "c) Copy remote<br/>\n",
    "s) Set configuration password<br/>\n",
    "q) Quit config<br/>\n",
    "e/n/d/r/c/s/q><br/>"
   ]
  },
  {
   "cell_type": "markdown",
   "id": "03403a45-c0a2-479b-b456-41dddb989c2c",
   "metadata": {},
   "source": [
    "Choose `n` for new"
   ]
  },
  {
   "cell_type": "code",
   "execution_count": null,
   "id": "6cb6fc32-0714-4903-9024-e6ffa9d0665f",
   "metadata": {},
   "outputs": [],
   "source": []
  },
  {
   "cell_type": "markdown",
   "id": "c5ed99f3-f347-4530-a284-2f58c7d76c16",
   "metadata": {},
   "source": [
    "# Give it a name"
   ]
  },
  {
   "cell_type": "markdown",
   "id": "a89e7dd1-5e55-42c8-83bd-7ee2c72a72f6",
   "metadata": {},
   "source": [
    "It will ask for a name<br/>\n",
    "```Enter name for new remote.```"
   ]
  },
  {
   "cell_type": "markdown",
   "id": "20ec8ec5-7003-444d-8dca-6460cfb26f97",
   "metadata": {},
   "source": [
    "Give it a name, for example I might call it google-drive-example"
   ]
  },
  {
   "cell_type": "code",
   "execution_count": null,
   "id": "235d8074-3ddf-476c-9af4-d458088db3ef",
   "metadata": {},
   "outputs": [],
   "source": []
  },
  {
   "cell_type": "markdown",
   "id": "569ab9da-17a7-4dd4-a16d-a62563cd0a42",
   "metadata": {},
   "source": [
    "name> google-drive-example"
   ]
  },
  {
   "cell_type": "code",
   "execution_count": null,
   "id": "550fce84-b4d0-4653-9aa1-5b8702154768",
   "metadata": {},
   "outputs": [],
   "source": []
  },
  {
   "cell_type": "markdown",
   "id": "959d960b-5300-401a-af87-6b0577d996fd",
   "metadata": {},
   "source": [
    "Next, it will give ouptut like the following:"
   ]
  },
  {
   "cell_type": "markdown",
   "id": "33900880-1024-4fe8-9859-6531c1567d3f",
   "metadata": {},
   "source": [
    "Option Storage.\n",
    "Type of storage to configure.\n",
    "Choose a number from below, or type in your own value.\n",
    " 1 / 1Fichier<br/>\n",
    "   \\ (fichier)<br/><br/>\n",
    " 2 / Akamai NetStorage<br/>\n",
    "   \\ (netstorage)<br/>\n",
    " 3 / Alias for an existing remote<br/>\n",
    "   \\ (alias)<br/>\n",
    " 4 / Amazon S3 Compliant Storage Providers including AWS, Alibaba, ArvanCloud, Ceph, ChinaMobile, Cloudflare, DigitalOcean, Dreamhost, Exaba, FlashBlade, GCS, HuaweiOBS, IBMCOS, IDrive, IONOS, LyveCloud, Leviia, Liara, Linode, Magalu, Mega, Minio, Netease, Outscale, Petabox, RackCorp, Rclone, Scaleway, SeaweedFS, Selectel, StackPath, Storj, Synology, TencentCOS, Wasabi, Qiniu and others\n",
    "   \\ (s3)<br/>\n",
    " 5 / Backblaze B2<br/>\n",
    "   \\ (b2)\n",
    " 6 / Better checksums for other remotes<br/>\n",
    "   \\ (hasher)<br/>\n",
    " 7 / Box<br/>\n",
    "   \\ (box)<br/>\n",
    " 8 / Cache a remote<br/>\n",
    "   \\ (cache)<br/>\n",
    " 9 / Citrix Sharefile<br/>\n",
    "   \\ (sharefile)<br/>\n",
    "10 / Cloudinary<br/>\n",
    "   \\ (cloudinary)<br/>\n",
    "11 / Combine several remotes into one<br/>\n",
    "   \\ (combine)<br/>\n",
    "12 / Compress a remote<br/>\n",
    "   \\ (compress)<br/>\n",
    "13 / DOI datasets<br/>\n",
    "   \\ (doi)<br/>\n",
    "14 / Dropbox<br/>\n",
    "   \\ (dropbox)<br/>\n",
    "15 / Encrypt/Decrypt a remote<br/>\n",
    "   \\ (crypt)<br/>\n",
    "16 / Enterprise File Fabric<br/>\n",
    "   \\ (filefabric)<br/>\n",
    "17 / FTP<br/>\n",
    "   \\ (ftp)<br/>\n",
    "18 / FileLu Cloud Storage<br/>\n",
    "   \\ (filelu)<br/>\n",
    "19 / Files.com<br/>\n",
    "   \\ (filescom)<br/>\n",
    "20 / Gofile<br/>\n",
    "   \\ (gofile)<br/>\n",
    "21 / Google Cloud Storage (this is not Google Drive)<br/>\n",
    "   \\ (google cloud storage)<br/>\n",
    "22 / Google Drive\n",
    "   \\ (drive)<br/>\n",
    "23 / Google Photos<br/>\n",
    "   \\ (google photos)<br/>\n",
    "24 / HTTP<br/>\n",
    "   \\ (http)<br/>\n",
    "25 / Hadoop distributed file system<br/>\n",
    "   \\ (hdfs)<br/>\n",
    "26 / HiDrive<br/>\n",
    "   \\ (hidrive)<br/>\n",
    "27 / ImageKit.io<br/>\n",
    "   \\ (imagekit)<br/>\n",
    "28 / In memory object storage system.<br/>\n",
    "   \\ (memory)<br/>\n",
    "29 / Internet Archive<br/>\n",
    "   \\ (internetarchive)<br/>\n",
    "30 / Jottacloud<br/>\n",
    "   \\ (jottacloud)<br/>\n",
    "31 / Koofr, Digi Storage and other Koofr-compatible storage providers<br/>\n",
    "   \\ (koofr)<br/>\n",
    "32 / Linkbox<br/>\n",
    "   \\ (linkbox)<br/>\n",
    "33 / Local Disk<br/>\n",
    "   \\ (local)<br/>\n",
    "34 / Mail.ru Cloud<br/>\n",
    "   \\ (mailru)<br/>\n",
    "35 / Mega<br/>\n",
    "   \\ (mega)<br/>\n",
    "36 / Microsoft Azure Blob Storage<br/>\n",
    "   \\ (azureblob)<br/>\n",
    "37 / Microsoft Azure Files<br/>\n",
    "   \\ (azurefiles)<br/>\n",
    "38 / Microsoft OneDrive<br/>\n",
    "   \\ (onedrive)<br/>\n",
    "39 / OpenDrive<br/>\n",
    "   \\ (opendrive)<br/>\n",
    "40 / OpenStack Swift (Rackspace Cloud Files, Blomp Cloud Storage, Memset Memstore, OVH)<br/>\n",
    "   \\ (swift)<br/>\n",
    "41 / Oracle Cloud Infrastructure Object Storage<br/>\n",
    "   \\ (oracleobjectstorage)<br/>\n",
    "42 / Pcloud<br/>\n",
    "   \\ (pcloud)<br/>\n",
    "43 / PikPak<br/>\n",
    "   \\ (pikpak)<br/>\n",
    "44 / Pixeldrain Filesystem<br/>\n",
    "   \\ (pixeldrain)<br/>\n",
    "45 / Proton Drive<br/>\n",
    "   \\ (protondrive)<br/>\n",
    "46 / Put.io<br/>\n",
    "   \\ (putio)<br/>\n",
    "47 / QingCloud Object Storage<br/>\n",
    "   \\ (qingstor)<br/>\n",
    "48 / Quatrix by Maytech<br/>\n",
    "   \\ (quatrix)<br/>\n",
    "49 / SMB / CIFS<br/>\n",
    "   \\ (smb)<br/>\n",
    "50 / SSH/SFTP<br/>\n",
    "   \\ (sftp)<br/>\n",
    "51 / Sia Decentralized Cloud<br/>\n",
    "   \\ (sia)<br/>\n",
    "52 / Storj Decentralized Cloud Storage<br/>\n",
    "   \\ (storj)<br/>\n",
    "53 / Sugarsync<br/>\n",
    "   \\ (sugarsync)<br/>\n",
    "54 / Transparently chunk/split large files<br/>\n",
    "   \\ (chunker)<br/>\n",
    "55 / Uloz.to<br/>\n",
    "   \\ (ulozto)<br/>\n",
    "56 / Union merges the contents of several upstream fs<br/>\n",
    "   \\ (union)<br/>\n",
    "57 / Uptobox<br/>\n",
    "   \\ (uptobox)<br/>\n",
    "58 / WebDAV<br/>\n",
    "   \\ (webdav)<br/>\n",
    "59 / Yandex Disk<br/>\n",
    "   \\ (yandex)<br/>\n",
    "60 / Zoho<br/>\n",
    "   \\ (zoho)<br/>\n",
    "61 / iCloud Drive<br/>\n",
    "   \\ (iclouddrive)<br/>\n",
    "62 / premiumize.me<br/>\n",
    "   \\ (premiumizeme)<br/>\n",
    "63 / seafile<br/>\n",
    "   \\ (seafile)<br/>\n",
    "Storage> <br/>"
   ]
  },
  {
   "cell_type": "markdown",
   "id": "e2c245b7-5c02-4fc9-9271-5edd196ca901",
   "metadata": {},
   "source": [
    "# Choose the option for Google Drive\n",
    "In my case, it was option 22"
   ]
  },
  {
   "cell_type": "markdown",
   "id": "3a2c37a9-c685-42e9-87c4-20063f7a7612",
   "metadata": {},
   "source": [
    "Storage> 22<br/>\n",
    "<br/>\n",
    "Option client_id.<br/>\n",
    "Google Application Client Id<br/>\n",
    "Setting your own is recommended.<br/>\n",
    "See https://rclone.org/drive/#making-your-own-client-id for how to create your own.<br/>\n",
    "If you leave this blank, it will use an internal key which is low performance.<br/>\n",
    "Enter a value. Press Enter to leave empty.<br/>\n",
    "client_id> "
   ]
  },
  {
   "cell_type": "markdown",
   "id": "24129f2b-adb6-4aa5-bad7-545b6acad196",
   "metadata": {},
   "source": [
    "You can just hit `enter` on your keyboard to go with the default"
   ]
  },
  {
   "cell_type": "code",
   "execution_count": null,
   "id": "2b8804b9-dbde-4c0b-8dbc-e15348b463ec",
   "metadata": {},
   "outputs": [],
   "source": [
    "Enter a value. Press Enter to leave empty. <br/>\n",
    "client_id> "
   ]
  },
  {
   "cell_type": "markdown",
   "id": "6007a584-4598-4c62-9d42-efe7c5da7179",
   "metadata": {},
   "source": [
    "# Oauth secret"
   ]
  },
  {
   "cell_type": "markdown",
   "id": "dc813507-ccdc-4d88-b541-8011e2a6fd00",
   "metadata": {},
   "source": [
    "You can go with the default and just hit `enter` on your keyboard"
   ]
  },
  {
   "cell_type": "markdown",
   "id": "c2eef067-3467-4252-b0ca-f49b3d80b46b",
   "metadata": {},
   "source": [
    "Option client_secret.<br/>\n",
    "OAuth Client Secret.<br/>\n",
    "Leave blank normally.<br/>\n",
    "Enter a value. Press Enter to leave empty.<br/>\n",
    "client_secret> <br/>"
   ]
  },
  {
   "cell_type": "code",
   "execution_count": null,
   "id": "78eb4a6a-4845-4eb4-a45e-d70c4a69078c",
   "metadata": {},
   "outputs": [],
   "source": []
  },
  {
   "cell_type": "markdown",
   "id": "11e00bfc-4347-4360-ba70-a7cc406e370f",
   "metadata": {},
   "source": [
    "# Choose option scope"
   ]
  },
  {
   "cell_type": "markdown",
   "id": "cb15f8e0-6cd2-4a14-a9bb-aa49ea863f67",
   "metadata": {},
   "source": [
    "For syncing all files from Google, I recommend choosing the option with `Full access all files, excluding Application Data folder.`"
   ]
  },
  {
   "cell_type": "markdown",
   "id": "062c00ac-bf43-40d4-9349-e7ca39d3b1c2",
   "metadata": {},
   "source": [
    "The options are seen as below\n",
    "Option scope.<br/>\n",
    "Comma separated list of scopes that rclone should use when requesting access from drive.<br/>\n",
    "Choose a number from below, or type in your own value.<br/>\n",
    "Press Enter to leave empty.<br/>\n",
    " 1 / Full access all files, excluding Application Data Folder.<br/>\n",
    "   \\ (drive)<br/>\n",
    " 2 / Read-only access to file metadata and file contents.<br/>\n",
    "   \\ (drive.readonly)<br/>\n",
    "   / Access to files created by rclone only.<br/>\n",
    " 3 | These are visible in the drive website.<br/>\n",
    "   | File authorization is revoked when the user deauthorizes the app.<br/>\n",
    "   \\ (drive.file)<br/>\n",
    "   / Allows read and write access to the Application Data folder.<br/>\n",
    " 4 | This is not visible in the drive website.<br/>\n",
    "   \\ (drive.appfolder)<br/>\n",
    "   / Allows read-only access to file metadata but<br/>\n",
    " 5 | does not allow any access to read or download file content.<br/>\n",
    "   \\ (drive.metadata.readonly)<br/>\n"
   ]
  },
  {
   "cell_type": "code",
   "execution_count": null,
   "id": "ffa2928d-e618-4c04-8c3e-43e8b1740157",
   "metadata": {},
   "outputs": [],
   "source": [
    "bbb"
   ]
  }
 ],
 "metadata": {
  "kernelspec": {
   "display_name": "Python (.venv - useful-pandas-code)",
   "language": "python",
   "name": "useful-pandas-code"
  },
  "language_info": {
   "codemirror_mode": {
    "name": "ipython",
    "version": 3
   },
   "file_extension": ".py",
   "mimetype": "text/x-python",
   "name": "python",
   "nbconvert_exporter": "python",
   "pygments_lexer": "ipython3",
   "version": "3.10.12"
  }
 },
 "nbformat": 4,
 "nbformat_minor": 5
}
