{
 "cells": [
  {
   "cell_type": "code",
   "execution_count": 1,
   "id": "060dcbd6-bf82-487a-a5f3-6d8f1049f376",
   "metadata": {},
   "outputs": [],
   "source": [
    "import pandas as pd\n",
    "import numpy as np\n",
    "import altair as alt\n",
    "import seaborn as sns\n",
    "from matplotlib import pyplot as plt"
   ]
  },
  {
   "cell_type": "markdown",
   "id": "19db07f1-5c47-454f-a1f9-0b23787e907e",
   "metadata": {},
   "source": [
    "# Literacy rate, adult total (% of people ages 15 and above)"
   ]
  },
  {
   "cell_type": "markdown",
   "id": "af043044-fcf9-4240-9764-d4ee4d1c7e84",
   "metadata": {},
   "source": [
    "data from <br/>\n",
    "https://data.worldbank.org/indicator/SE.ADT.LITR.ZS"
   ]
  },
  {
   "cell_type": "code",
   "execution_count": 62,
   "id": "269eb716-b5f6-4549-a95d-46b8769cb349",
   "metadata": {},
   "outputs": [],
   "source": [
    "# API_SE.ADT.LITR.ZS_DS2_en_csv_v2_37553.csv"
   ]
  },
  {
   "cell_type": "code",
   "execution_count": 63,
   "id": "e703a186-8e41-41e1-9869-df68b82d4ef6",
   "metadata": {},
   "outputs": [],
   "source": [
    "# note the first 4 lines of the csv aren't part of the data, so skip them\n",
    "literacy_rate_df = pd.read_csv(\"data/API_SE.ADT.LITR.ZS_DS2_en_csv_v2_37553.csv\", skiprows=4)"
   ]
  },
  {
   "cell_type": "code",
   "execution_count": 64,
   "id": "b20a9fc6-c410-4510-916d-ec8de190a3ff",
   "metadata": {
    "scrolled": true
   },
   "outputs": [
    {
     "data": {
      "text/html": [
       "<div>\n",
       "<style scoped>\n",
       "    .dataframe tbody tr th:only-of-type {\n",
       "        vertical-align: middle;\n",
       "    }\n",
       "\n",
       "    .dataframe tbody tr th {\n",
       "        vertical-align: top;\n",
       "    }\n",
       "\n",
       "    .dataframe thead th {\n",
       "        text-align: right;\n",
       "    }\n",
       "</style>\n",
       "<table border=\"1\" class=\"dataframe\">\n",
       "  <thead>\n",
       "    <tr style=\"text-align: right;\">\n",
       "      <th></th>\n",
       "      <th>Country Name</th>\n",
       "      <th>Country Code</th>\n",
       "      <th>Indicator Name</th>\n",
       "      <th>Indicator Code</th>\n",
       "      <th>1960</th>\n",
       "      <th>1961</th>\n",
       "      <th>1962</th>\n",
       "      <th>1963</th>\n",
       "      <th>1964</th>\n",
       "      <th>1965</th>\n",
       "      <th>...</th>\n",
       "      <th>2016</th>\n",
       "      <th>2017</th>\n",
       "      <th>2018</th>\n",
       "      <th>2019</th>\n",
       "      <th>2020</th>\n",
       "      <th>2021</th>\n",
       "      <th>2022</th>\n",
       "      <th>2023</th>\n",
       "      <th>2024</th>\n",
       "      <th>Unnamed: 69</th>\n",
       "    </tr>\n",
       "  </thead>\n",
       "  <tbody>\n",
       "    <tr>\n",
       "      <th>0</th>\n",
       "      <td>Aruba</td>\n",
       "      <td>ABW</td>\n",
       "      <td>Literacy rate, adult total (% of people ages 1...</td>\n",
       "      <td>SE.ADT.LITR.ZS</td>\n",
       "      <td>NaN</td>\n",
       "      <td>NaN</td>\n",
       "      <td>NaN</td>\n",
       "      <td>NaN</td>\n",
       "      <td>NaN</td>\n",
       "      <td>NaN</td>\n",
       "      <td>...</td>\n",
       "      <td>NaN</td>\n",
       "      <td>NaN</td>\n",
       "      <td>NaN</td>\n",
       "      <td>NaN</td>\n",
       "      <td>97.989998</td>\n",
       "      <td>NaN</td>\n",
       "      <td>NaN</td>\n",
       "      <td>NaN</td>\n",
       "      <td>NaN</td>\n",
       "      <td>NaN</td>\n",
       "    </tr>\n",
       "    <tr>\n",
       "      <th>1</th>\n",
       "      <td>Africa Eastern and Southern</td>\n",
       "      <td>AFE</td>\n",
       "      <td>Literacy rate, adult total (% of people ages 1...</td>\n",
       "      <td>SE.ADT.LITR.ZS</td>\n",
       "      <td>NaN</td>\n",
       "      <td>NaN</td>\n",
       "      <td>NaN</td>\n",
       "      <td>NaN</td>\n",
       "      <td>NaN</td>\n",
       "      <td>NaN</td>\n",
       "      <td>...</td>\n",
       "      <td>71.105171</td>\n",
       "      <td>71.029984</td>\n",
       "      <td>71.495399</td>\n",
       "      <td>72.658661</td>\n",
       "      <td>72.855759</td>\n",
       "      <td>72.638908</td>\n",
       "      <td>72.981560</td>\n",
       "      <td>73.275108</td>\n",
       "      <td>NaN</td>\n",
       "      <td>NaN</td>\n",
       "    </tr>\n",
       "    <tr>\n",
       "      <th>2</th>\n",
       "      <td>Afghanistan</td>\n",
       "      <td>AFG</td>\n",
       "      <td>Literacy rate, adult total (% of people ages 1...</td>\n",
       "      <td>SE.ADT.LITR.ZS</td>\n",
       "      <td>NaN</td>\n",
       "      <td>NaN</td>\n",
       "      <td>NaN</td>\n",
       "      <td>NaN</td>\n",
       "      <td>NaN</td>\n",
       "      <td>NaN</td>\n",
       "      <td>...</td>\n",
       "      <td>NaN</td>\n",
       "      <td>NaN</td>\n",
       "      <td>NaN</td>\n",
       "      <td>NaN</td>\n",
       "      <td>NaN</td>\n",
       "      <td>37.000000</td>\n",
       "      <td>NaN</td>\n",
       "      <td>NaN</td>\n",
       "      <td>NaN</td>\n",
       "      <td>NaN</td>\n",
       "    </tr>\n",
       "    <tr>\n",
       "      <th>3</th>\n",
       "      <td>Africa Western and Central</td>\n",
       "      <td>AFW</td>\n",
       "      <td>Literacy rate, adult total (% of people ages 1...</td>\n",
       "      <td>SE.ADT.LITR.ZS</td>\n",
       "      <td>NaN</td>\n",
       "      <td>NaN</td>\n",
       "      <td>NaN</td>\n",
       "      <td>NaN</td>\n",
       "      <td>NaN</td>\n",
       "      <td>NaN</td>\n",
       "      <td>...</td>\n",
       "      <td>55.465778</td>\n",
       "      <td>56.472198</td>\n",
       "      <td>59.747349</td>\n",
       "      <td>59.553669</td>\n",
       "      <td>59.703239</td>\n",
       "      <td>60.007320</td>\n",
       "      <td>60.290852</td>\n",
       "      <td>60.505550</td>\n",
       "      <td>NaN</td>\n",
       "      <td>NaN</td>\n",
       "    </tr>\n",
       "    <tr>\n",
       "      <th>4</th>\n",
       "      <td>Angola</td>\n",
       "      <td>AGO</td>\n",
       "      <td>Literacy rate, adult total (% of people ages 1...</td>\n",
       "      <td>SE.ADT.LITR.ZS</td>\n",
       "      <td>NaN</td>\n",
       "      <td>NaN</td>\n",
       "      <td>NaN</td>\n",
       "      <td>NaN</td>\n",
       "      <td>NaN</td>\n",
       "      <td>NaN</td>\n",
       "      <td>...</td>\n",
       "      <td>NaN</td>\n",
       "      <td>NaN</td>\n",
       "      <td>NaN</td>\n",
       "      <td>NaN</td>\n",
       "      <td>NaN</td>\n",
       "      <td>NaN</td>\n",
       "      <td>72.400002</td>\n",
       "      <td>NaN</td>\n",
       "      <td>NaN</td>\n",
       "      <td>NaN</td>\n",
       "    </tr>\n",
       "    <tr>\n",
       "      <th>...</th>\n",
       "      <td>...</td>\n",
       "      <td>...</td>\n",
       "      <td>...</td>\n",
       "      <td>...</td>\n",
       "      <td>...</td>\n",
       "      <td>...</td>\n",
       "      <td>...</td>\n",
       "      <td>...</td>\n",
       "      <td>...</td>\n",
       "      <td>...</td>\n",
       "      <td>...</td>\n",
       "      <td>...</td>\n",
       "      <td>...</td>\n",
       "      <td>...</td>\n",
       "      <td>...</td>\n",
       "      <td>...</td>\n",
       "      <td>...</td>\n",
       "      <td>...</td>\n",
       "      <td>...</td>\n",
       "      <td>...</td>\n",
       "      <td>...</td>\n",
       "    </tr>\n",
       "    <tr>\n",
       "      <th>261</th>\n",
       "      <td>Kosovo</td>\n",
       "      <td>XKX</td>\n",
       "      <td>Literacy rate, adult total (% of people ages 1...</td>\n",
       "      <td>SE.ADT.LITR.ZS</td>\n",
       "      <td>NaN</td>\n",
       "      <td>NaN</td>\n",
       "      <td>NaN</td>\n",
       "      <td>NaN</td>\n",
       "      <td>NaN</td>\n",
       "      <td>NaN</td>\n",
       "      <td>...</td>\n",
       "      <td>NaN</td>\n",
       "      <td>NaN</td>\n",
       "      <td>NaN</td>\n",
       "      <td>NaN</td>\n",
       "      <td>NaN</td>\n",
       "      <td>NaN</td>\n",
       "      <td>NaN</td>\n",
       "      <td>NaN</td>\n",
       "      <td>NaN</td>\n",
       "      <td>NaN</td>\n",
       "    </tr>\n",
       "    <tr>\n",
       "      <th>262</th>\n",
       "      <td>Yemen, Rep.</td>\n",
       "      <td>YEM</td>\n",
       "      <td>Literacy rate, adult total (% of people ages 1...</td>\n",
       "      <td>SE.ADT.LITR.ZS</td>\n",
       "      <td>NaN</td>\n",
       "      <td>NaN</td>\n",
       "      <td>NaN</td>\n",
       "      <td>NaN</td>\n",
       "      <td>NaN</td>\n",
       "      <td>NaN</td>\n",
       "      <td>...</td>\n",
       "      <td>NaN</td>\n",
       "      <td>NaN</td>\n",
       "      <td>NaN</td>\n",
       "      <td>NaN</td>\n",
       "      <td>NaN</td>\n",
       "      <td>NaN</td>\n",
       "      <td>NaN</td>\n",
       "      <td>NaN</td>\n",
       "      <td>NaN</td>\n",
       "      <td>NaN</td>\n",
       "    </tr>\n",
       "    <tr>\n",
       "      <th>263</th>\n",
       "      <td>South Africa</td>\n",
       "      <td>ZAF</td>\n",
       "      <td>Literacy rate, adult total (% of people ages 1...</td>\n",
       "      <td>SE.ADT.LITR.ZS</td>\n",
       "      <td>NaN</td>\n",
       "      <td>NaN</td>\n",
       "      <td>NaN</td>\n",
       "      <td>NaN</td>\n",
       "      <td>NaN</td>\n",
       "      <td>NaN</td>\n",
       "      <td>...</td>\n",
       "      <td>91.737244</td>\n",
       "      <td>87.000000</td>\n",
       "      <td>NaN</td>\n",
       "      <td>95.000000</td>\n",
       "      <td>NaN</td>\n",
       "      <td>90.000000</td>\n",
       "      <td>NaN</td>\n",
       "      <td>NaN</td>\n",
       "      <td>NaN</td>\n",
       "      <td>NaN</td>\n",
       "    </tr>\n",
       "    <tr>\n",
       "      <th>264</th>\n",
       "      <td>Zambia</td>\n",
       "      <td>ZMB</td>\n",
       "      <td>Literacy rate, adult total (% of people ages 1...</td>\n",
       "      <td>SE.ADT.LITR.ZS</td>\n",
       "      <td>NaN</td>\n",
       "      <td>NaN</td>\n",
       "      <td>NaN</td>\n",
       "      <td>NaN</td>\n",
       "      <td>NaN</td>\n",
       "      <td>NaN</td>\n",
       "      <td>...</td>\n",
       "      <td>NaN</td>\n",
       "      <td>NaN</td>\n",
       "      <td>71.132301</td>\n",
       "      <td>NaN</td>\n",
       "      <td>87.500000</td>\n",
       "      <td>NaN</td>\n",
       "      <td>NaN</td>\n",
       "      <td>NaN</td>\n",
       "      <td>NaN</td>\n",
       "      <td>NaN</td>\n",
       "    </tr>\n",
       "    <tr>\n",
       "      <th>265</th>\n",
       "      <td>Zimbabwe</td>\n",
       "      <td>ZWE</td>\n",
       "      <td>Literacy rate, adult total (% of people ages 1...</td>\n",
       "      <td>SE.ADT.LITR.ZS</td>\n",
       "      <td>NaN</td>\n",
       "      <td>NaN</td>\n",
       "      <td>NaN</td>\n",
       "      <td>NaN</td>\n",
       "      <td>NaN</td>\n",
       "      <td>NaN</td>\n",
       "      <td>...</td>\n",
       "      <td>NaN</td>\n",
       "      <td>NaN</td>\n",
       "      <td>NaN</td>\n",
       "      <td>93.227547</td>\n",
       "      <td>NaN</td>\n",
       "      <td>NaN</td>\n",
       "      <td>89.849998</td>\n",
       "      <td>NaN</td>\n",
       "      <td>NaN</td>\n",
       "      <td>NaN</td>\n",
       "    </tr>\n",
       "  </tbody>\n",
       "</table>\n",
       "<p>266 rows × 70 columns</p>\n",
       "</div>"
      ],
      "text/plain": [
       "                    Country Name Country Code  \\\n",
       "0                          Aruba          ABW   \n",
       "1    Africa Eastern and Southern          AFE   \n",
       "2                    Afghanistan          AFG   \n",
       "3     Africa Western and Central          AFW   \n",
       "4                         Angola          AGO   \n",
       "..                           ...          ...   \n",
       "261                       Kosovo          XKX   \n",
       "262                  Yemen, Rep.          YEM   \n",
       "263                 South Africa          ZAF   \n",
       "264                       Zambia          ZMB   \n",
       "265                     Zimbabwe          ZWE   \n",
       "\n",
       "                                        Indicator Name  Indicator Code  1960  \\\n",
       "0    Literacy rate, adult total (% of people ages 1...  SE.ADT.LITR.ZS   NaN   \n",
       "1    Literacy rate, adult total (% of people ages 1...  SE.ADT.LITR.ZS   NaN   \n",
       "2    Literacy rate, adult total (% of people ages 1...  SE.ADT.LITR.ZS   NaN   \n",
       "3    Literacy rate, adult total (% of people ages 1...  SE.ADT.LITR.ZS   NaN   \n",
       "4    Literacy rate, adult total (% of people ages 1...  SE.ADT.LITR.ZS   NaN   \n",
       "..                                                 ...             ...   ...   \n",
       "261  Literacy rate, adult total (% of people ages 1...  SE.ADT.LITR.ZS   NaN   \n",
       "262  Literacy rate, adult total (% of people ages 1...  SE.ADT.LITR.ZS   NaN   \n",
       "263  Literacy rate, adult total (% of people ages 1...  SE.ADT.LITR.ZS   NaN   \n",
       "264  Literacy rate, adult total (% of people ages 1...  SE.ADT.LITR.ZS   NaN   \n",
       "265  Literacy rate, adult total (% of people ages 1...  SE.ADT.LITR.ZS   NaN   \n",
       "\n",
       "     1961  1962  1963  1964  1965  ...       2016       2017       2018  \\\n",
       "0     NaN   NaN   NaN   NaN   NaN  ...        NaN        NaN        NaN   \n",
       "1     NaN   NaN   NaN   NaN   NaN  ...  71.105171  71.029984  71.495399   \n",
       "2     NaN   NaN   NaN   NaN   NaN  ...        NaN        NaN        NaN   \n",
       "3     NaN   NaN   NaN   NaN   NaN  ...  55.465778  56.472198  59.747349   \n",
       "4     NaN   NaN   NaN   NaN   NaN  ...        NaN        NaN        NaN   \n",
       "..    ...   ...   ...   ...   ...  ...        ...        ...        ...   \n",
       "261   NaN   NaN   NaN   NaN   NaN  ...        NaN        NaN        NaN   \n",
       "262   NaN   NaN   NaN   NaN   NaN  ...        NaN        NaN        NaN   \n",
       "263   NaN   NaN   NaN   NaN   NaN  ...  91.737244  87.000000        NaN   \n",
       "264   NaN   NaN   NaN   NaN   NaN  ...        NaN        NaN  71.132301   \n",
       "265   NaN   NaN   NaN   NaN   NaN  ...        NaN        NaN        NaN   \n",
       "\n",
       "          2019       2020       2021       2022       2023  2024  Unnamed: 69  \n",
       "0          NaN  97.989998        NaN        NaN        NaN   NaN          NaN  \n",
       "1    72.658661  72.855759  72.638908  72.981560  73.275108   NaN          NaN  \n",
       "2          NaN        NaN  37.000000        NaN        NaN   NaN          NaN  \n",
       "3    59.553669  59.703239  60.007320  60.290852  60.505550   NaN          NaN  \n",
       "4          NaN        NaN        NaN  72.400002        NaN   NaN          NaN  \n",
       "..         ...        ...        ...        ...        ...   ...          ...  \n",
       "261        NaN        NaN        NaN        NaN        NaN   NaN          NaN  \n",
       "262        NaN        NaN        NaN        NaN        NaN   NaN          NaN  \n",
       "263  95.000000        NaN  90.000000        NaN        NaN   NaN          NaN  \n",
       "264        NaN  87.500000        NaN        NaN        NaN   NaN          NaN  \n",
       "265  93.227547        NaN        NaN  89.849998        NaN   NaN          NaN  \n",
       "\n",
       "[266 rows x 70 columns]"
      ]
     },
     "execution_count": 64,
     "metadata": {},
     "output_type": "execute_result"
    }
   ],
   "source": [
    "literacy_rate_df"
   ]
  },
  {
   "cell_type": "code",
   "execution_count": 65,
   "id": "04a34308-b637-41cb-b00d-0321df45184a",
   "metadata": {},
   "outputs": [
    {
     "data": {
      "text/plain": [
       "Index(['Country Name', 'Country Code', 'Indicator Name', 'Indicator Code',\n",
       "       '1960', '1961', '1962', '1963', '1964', '1965', '1966', '1967', '1968',\n",
       "       '1969', '1970', '1971', '1972', '1973', '1974', '1975', '1976', '1977',\n",
       "       '1978', '1979', '1980', '1981', '1982', '1983', '1984', '1985', '1986',\n",
       "       '1987', '1988', '1989', '1990', '1991', '1992', '1993', '1994', '1995',\n",
       "       '1996', '1997', '1998', '1999', '2000', '2001', '2002', '2003', '2004',\n",
       "       '2005', '2006', '2007', '2008', '2009', '2010', '2011', '2012', '2013',\n",
       "       '2014', '2015', '2016', '2017', '2018', '2019', '2020', '2021', '2022',\n",
       "       '2023', '2024', 'Unnamed: 69'],\n",
       "      dtype='object')"
      ]
     },
     "execution_count": 65,
     "metadata": {},
     "output_type": "execute_result"
    }
   ],
   "source": [
    "literacy_rate_df.columns"
   ]
  },
  {
   "cell_type": "markdown",
   "id": "493399c9-e0b8-46bb-a6d1-d78a1eb463fc",
   "metadata": {},
   "source": [
    "# the latest year we have data for is in 2023, so I'll use that year"
   ]
  },
  {
   "cell_type": "code",
   "execution_count": 66,
   "id": "d538a430-a905-4060-9923-ea7d1800f6c5",
   "metadata": {},
   "outputs": [
    {
     "data": {
      "text/html": [
       "<div>\n",
       "<style scoped>\n",
       "    .dataframe tbody tr th:only-of-type {\n",
       "        vertical-align: middle;\n",
       "    }\n",
       "\n",
       "    .dataframe tbody tr th {\n",
       "        vertical-align: top;\n",
       "    }\n",
       "\n",
       "    .dataframe thead th {\n",
       "        text-align: right;\n",
       "    }\n",
       "</style>\n",
       "<table border=\"1\" class=\"dataframe\">\n",
       "  <thead>\n",
       "    <tr style=\"text-align: right;\">\n",
       "      <th></th>\n",
       "      <th>2023</th>\n",
       "    </tr>\n",
       "  </thead>\n",
       "  <tbody>\n",
       "    <tr>\n",
       "      <th>0</th>\n",
       "      <td>NaN</td>\n",
       "    </tr>\n",
       "    <tr>\n",
       "      <th>1</th>\n",
       "      <td>73.275108</td>\n",
       "    </tr>\n",
       "    <tr>\n",
       "      <th>2</th>\n",
       "      <td>NaN</td>\n",
       "    </tr>\n",
       "    <tr>\n",
       "      <th>3</th>\n",
       "      <td>60.505550</td>\n",
       "    </tr>\n",
       "    <tr>\n",
       "      <th>4</th>\n",
       "      <td>NaN</td>\n",
       "    </tr>\n",
       "    <tr>\n",
       "      <th>...</th>\n",
       "      <td>...</td>\n",
       "    </tr>\n",
       "    <tr>\n",
       "      <th>261</th>\n",
       "      <td>NaN</td>\n",
       "    </tr>\n",
       "    <tr>\n",
       "      <th>262</th>\n",
       "      <td>NaN</td>\n",
       "    </tr>\n",
       "    <tr>\n",
       "      <th>263</th>\n",
       "      <td>NaN</td>\n",
       "    </tr>\n",
       "    <tr>\n",
       "      <th>264</th>\n",
       "      <td>NaN</td>\n",
       "    </tr>\n",
       "    <tr>\n",
       "      <th>265</th>\n",
       "      <td>NaN</td>\n",
       "    </tr>\n",
       "  </tbody>\n",
       "</table>\n",
       "<p>266 rows × 1 columns</p>\n",
       "</div>"
      ],
      "text/plain": [
       "          2023\n",
       "0          NaN\n",
       "1    73.275108\n",
       "2          NaN\n",
       "3    60.505550\n",
       "4          NaN\n",
       "..         ...\n",
       "261        NaN\n",
       "262        NaN\n",
       "263        NaN\n",
       "264        NaN\n",
       "265        NaN\n",
       "\n",
       "[266 rows x 1 columns]"
      ]
     },
     "execution_count": 66,
     "metadata": {},
     "output_type": "execute_result"
    }
   ],
   "source": [
    "literacy_rate_df[['2023']]"
   ]
  },
  {
   "cell_type": "code",
   "execution_count": 67,
   "id": "5440e7f5-08be-4c51-a83d-ffd1f38b8c37",
   "metadata": {},
   "outputs": [],
   "source": [
    "# seaborn histogram documentation\n",
    "# https://seaborn.pydata.org/generated/seaborn.histplot.html"
   ]
  },
  {
   "cell_type": "code",
   "execution_count": 68,
   "id": "883d16f2-f469-49c4-af63-329b1f709eff",
   "metadata": {},
   "outputs": [],
   "source": [
    "lit_rate_2023_df = literacy_rate_df['2023']"
   ]
  },
  {
   "cell_type": "code",
   "execution_count": 69,
   "id": "e2ffd1ce-1580-4ff4-8c4b-f2c333ff3e80",
   "metadata": {},
   "outputs": [
    {
     "data": {
      "text/plain": [
       "0            NaN\n",
       "1      73.275108\n",
       "2            NaN\n",
       "3      60.505550\n",
       "4            NaN\n",
       "         ...    \n",
       "261          NaN\n",
       "262          NaN\n",
       "263          NaN\n",
       "264          NaN\n",
       "265          NaN\n",
       "Name: 2023, Length: 266, dtype: float64"
      ]
     },
     "execution_count": 69,
     "metadata": {},
     "output_type": "execute_result"
    }
   ],
   "source": [
    "lit_rate_2023_df"
   ]
  },
  {
   "cell_type": "code",
   "execution_count": 70,
   "id": "92fb66a7-cd78-4247-8d0c-0deefcf713d8",
   "metadata": {},
   "outputs": [],
   "source": [
    "# remote nan values with numpy\n",
    "temp = lit_rate_2023_df.values\n",
    "non_nan_mask = ~np.isnan(temp)\n",
    "clean_data = temp[non_nan_mask]"
   ]
  },
  {
   "cell_type": "code",
   "execution_count": 71,
   "id": "ce10fd7d-bbf5-4fca-9fa3-1f0625eb16dc",
   "metadata": {},
   "outputs": [
    {
     "data": {
      "text/plain": [
       "array([ 73.27510834,  60.50555038,  76.15425873, 100.        ,\n",
       "        98.        ,  96.67762756,  81.49595642,  96.43048859,\n",
       "        98.99172211,  98.68871307,  65.85257721,  65.92082977,\n",
       "        90.09896851,  85.35204315,  69.51500702,  67.8960495 ,\n",
       "        70.30046082,  77.        ,  95.        ,  94.54627228,\n",
       "        94.79000854,  67.71456909,  63.03852844,  77.63182068,\n",
       "        85.17915344,  96.80445862,  80.94914246,  87.22839355,\n",
       "        78.25939178,  86.25975037,  65.57189941,  75.0088501 ,\n",
       "        90.        ,  68.19297791,  68.19624329,  87.28028107,\n",
       "        96.63619232,  99.38118744,  94.70938873,  78.04084015,\n",
       "        75.0088501 ,  68.19624329,  95.61952209,  87.35600281])"
      ]
     },
     "execution_count": 71,
     "metadata": {},
     "output_type": "execute_result"
    }
   ],
   "source": [
    "clean_data"
   ]
  },
  {
   "cell_type": "code",
   "execution_count": 74,
   "id": "211a9685-3d26-4394-b093-45dfaac222ef",
   "metadata": {},
   "outputs": [
    {
     "data": {
      "text/plain": [
       "np.float64(60.5055503845215)"
      ]
     },
     "execution_count": 74,
     "metadata": {},
     "output_type": "execute_result"
    }
   ],
   "source": [
    "np.min(clean_data)"
   ]
  },
  {
   "cell_type": "code",
   "execution_count": null,
   "id": "0b991d60-4d34-4a2b-ac66-4fb4930c993d",
   "metadata": {},
   "outputs": [],
   "source": [
    "# 60.5055503845215 is the lowest literacy rate for which we have data"
   ]
  },
  {
   "cell_type": "code",
   "execution_count": 73,
   "id": "a2ba395d-7d66-4bff-9666-24dc8d0bc1e3",
   "metadata": {},
   "outputs": [
    {
     "data": {
      "text/plain": [
       "Text(0.5, 1.0, \"Histogram of Countries' Literacy rates, adult total (% of people ages 15 and above) in 2023\")"
      ]
     },
     "execution_count": 73,
     "metadata": {},
     "output_type": "execute_result"
    },
    {
     "data": {
      "image/png": "[encoded data removed]",
      "text/plain": [
       "<Figure size 640x480 with 1 Axes>"
      ]
     },
     "metadata": {},
     "output_type": "display_data"
    }
   ],
   "source": [
    "ax = sns.histplot(data=literacy_rate_df, x=\"2023\")\n",
    "ax.set_title(\"Histogram of Countries' Literacy rates, adult total (% of people ages 15 and above) in 2023\")"
   ]
  },
  {
   "cell_type": "code",
   "execution_count": 72,
   "id": "582e6622-0a3e-43fb-9cc5-eb205d5239ef",
   "metadata": {},
   "outputs": [],
   "source": [
    "# sns.histplot(data=literacy_rate_df, x=\"2023\")"
   ]
  },
  {
   "cell_type": "code",
   "execution_count": null,
   "id": "1b768daf-2107-4c30-a95f-48c11a8ace23",
   "metadata": {},
   "outputs": [],
   "source": []
  },
  {
   "cell_type": "markdown",
   "id": "49ebcb98-a916-4c24-b503-65f384ed3dcd",
   "metadata": {},
   "source": [
    "# Boxplot"
   ]
  },
  {
   "cell_type": "code",
   "execution_count": null,
   "id": "6d002e42-40a1-49b5-a3cb-0194999bd4d7",
   "metadata": {},
   "outputs": [],
   "source": [
    "# seaborn boxplot documentation\n",
    "# https://seaborn.pydata.org/generated/seaborn.boxplot.html"
   ]
  },
  {
   "cell_type": "code",
   "execution_count": 31,
   "id": "af913f6f-7bf9-4dd3-a310-8bdb7d058297",
   "metadata": {},
   "outputs": [
    {
     "data": {
      "text/plain": [
       "Text(0.5, 1.0, \"Box plot of Countries' Literacy rates, adult total (% of people ages 15 and above) in 2023\")"
      ]
     },
     "execution_count": 31,
     "metadata": {},
     "output_type": "execute_result"
    },
    {
     "data": {
      "image/png": "[encoded data removed]",
      "text/plain": [
       "<Figure size 640x480 with 1 Axes>"
      ]
     },
     "metadata": {},
     "output_type": "display_data"
    }
   ],
   "source": [
    "# ax = sns.histplot(data=literacy_rate_df, x=\"2023\")\n",
    "# ax.set_title(\"Histogram of Countries' Literacy rates, adult total (% of people ages 15 and above) in 2023\")\n",
    "\n",
    "# ax = sns.boxplot(data=literacy_rate_df, x=\"2023\")\n",
    "ax = sns.boxplot(data=literacy_rate_df, y=\"2023\")\n",
    "ax.set_title(\"Box plot of Countries' Literacy rates, adult total (% of people ages 15 and above) in 2023\")\n",
    "# ax.set_title(\"Histogram of Countries' Literacy rates, adult total (% of people ages 15 and above) in 2023\")"
   ]
  },
  {
   "cell_type": "markdown",
   "id": "8a8b7067-5467-44a5-94e1-e0aaf9f80a7f",
   "metadata": {},
   "source": [
    "# rug plot with kde plot"
   ]
  },
  {
   "cell_type": "markdown",
   "id": "efc8904b-6916-480e-a71d-850ec89b0d05",
   "metadata": {},
   "source": [
    "https://seaborn.pydata.org/generated/seaborn.rugplot.html <br/>\n",
    "\" Plot marginal distributions by drawing ticks along the x and y axes.<br/>\n",
    "\n",
    "This function is intended to complement other plots by showing the location of individual observations in an unobtrusive way\""
   ]
  },
  {
   "cell_type": "code",
   "execution_count": 75,
   "id": "dfe2c8fa-7614-43e3-9546-d3d5d16e54d0",
   "metadata": {},
   "outputs": [
    {
     "data": {
      "text/plain": [
       "(60.0, 100.0)"
      ]
     },
     "execution_count": 75,
     "metadata": {},
     "output_type": "execute_result"
    },
    {
     "data": {
      "image/png": "[encoded data removed]",
      "text/plain": [
       "<Figure size 640x480 with 1 Axes>"
      ]
     },
     "metadata": {},
     "output_type": "display_data"
    }
   ],
   "source": [
    "# Create a figure and axes\n",
    "fig, ax = plt.subplots()\n",
    "\n",
    "# Pass the same ax to both plots\n",
    "sns.kdeplot(data=literacy_rate_df, x=\"2023\", ax=ax)\n",
    "sns.rugplot(data=literacy_rate_df, x=\"2023\", ax=ax)\n",
    "\n",
    "# data will only go to 100%, so modify?\n",
    "# ax.set_xlim(0,100) # Set x-axis from 0 to 100??\n",
    "# 60.5055503845215 is the lowest rate for which we have data\n",
    "ax.set_xlim(60,100) # Set x-axis from 0 to 100??"
   ]
  },
  {
   "cell_type": "code",
   "execution_count": null,
   "id": "cfa1b652-427d-485b-98ed-0581186ebbdb",
   "metadata": {},
   "outputs": [],
   "source": []
  },
  {
   "cell_type": "code",
   "execution_count": null,
   "id": "64856c92-1c4c-460d-9dd3-87d1b1f87418",
   "metadata": {},
   "outputs": [],
   "source": []
  },
  {
   "cell_type": "markdown",
   "id": "e09af266-9b47-4b5f-a000-575d5c75aac9",
   "metadata": {},
   "source": [
    "# Violin plot"
   ]
  },
  {
   "cell_type": "code",
   "execution_count": 76,
   "id": "7d86bcf2-8622-4f16-b1ed-7121a4fdd6a3",
   "metadata": {},
   "outputs": [],
   "source": [
    "# https://seaborn.pydata.org/generated/seaborn.violinplot.html"
   ]
  },
  {
   "cell_type": "code",
   "execution_count": 77,
   "id": "cb592e84-7a22-40f6-b3b7-8e032a64fee3",
   "metadata": {},
   "outputs": [
    {
     "data": {
      "text/plain": [
       "Text(0.5, 1.0, \"Violin plot of Countries' Literacy rates, adult total (% of people ages 15 and above) in 2023\")"
      ]
     },
     "execution_count": 77,
     "metadata": {},
     "output_type": "execute_result"
    },
    {
     "data": {
      "image/png": "[encoded data removed]",
      "text/plain": [
       "<Figure size 640x480 with 1 Axes>"
      ]
     },
     "metadata": {},
     "output_type": "display_data"
    }
   ],
   "source": [
    "ax = sns.violinplot(data=literacy_rate_df, y=\"2023\")\n",
    "ax.set_title(\"Violin plot of Countries' Literacy rates, adult total (% of people ages 15 and above) in 2023\")"
   ]
  },
  {
   "cell_type": "code",
   "execution_count": null,
   "id": "fb918895-d285-4a11-a8be-1ba646f2efa8",
   "metadata": {},
   "outputs": [],
   "source": []
  },
  {
   "cell_type": "code",
   "execution_count": null,
   "id": "430578b3-0bc4-483c-a4ef-5388e650312e",
   "metadata": {},
   "outputs": [],
   "source": []
  },
  {
   "cell_type": "code",
   "execution_count": null,
   "id": "46c28053-be33-416e-a47d-9147785b344e",
   "metadata": {},
   "outputs": [],
   "source": []
  },
  {
   "cell_type": "code",
   "execution_count": null,
   "id": "e55eded9-6c43-4ce8-859a-0431b78b28ed",
   "metadata": {},
   "outputs": [],
   "source": []
  },
  {
   "cell_type": "code",
   "execution_count": null,
   "id": "6a544fff-a753-4aa2-b076-21be6bb502cb",
   "metadata": {},
   "outputs": [],
   "source": []
  },
  {
   "cell_type": "code",
   "execution_count": null,
   "id": "920ca654-2b14-431a-9c1f-3bbf84b47c87",
   "metadata": {},
   "outputs": [],
   "source": []
  },
  {
   "cell_type": "code",
   "execution_count": null,
   "id": "9f166027-72d5-4fd1-ba38-4be95f055945",
   "metadata": {},
   "outputs": [],
   "source": [
    "# Create a figure and a set of subplots\n",
    "fig, axes = plt.subplots(nrows=2, ncols=2, figsize=(10, 5))\n",
    "\n",
    "# Plot on the first subplot\n",
    "sns.lineplot(data=data, x='x', y='y1', ax=axes[0])\n",
    "axes[0].set_title('Line Plot of Y1')\n",
    "\n",
    "# Plot on the second subplot\n",
    "sns.scatterplot(data=data, x='x', y='y2', hue='category', ax=axes[1])\n",
    "axes[1].set_title('Scatter Plot of Y2')\n",
    "\n",
    "plt.tight_layout() # Adjust layout to prevent overlap\n",
    "plt.show()"
   ]
  },
  {
   "cell_type": "code",
   "execution_count": null,
   "id": "98e43409-ae3d-4919-993d-615abcb0dcc1",
   "metadata": {},
   "outputs": [],
   "source": [
    "fig, axes = plt.subplots(2, 2, figsize=(10, 8)) # Create a 2x2 grid of subplots\n",
    "\n",
    "# Plotting on each subplot\n",
    "\n",
    "\n",
    "ax = sns.boxplot(data=literacy_rate_df, y=\"2023\")\n",
    "ax.set_title(\"Box plot of Countries' Literacy rates, adult total (% of people ages 15 and above) in 2023\")\n",
    "\n",
    "\n",
    "sns.scatterplot(data=data1, x='x', y='y', ax=axes[0, 0])\n",
    "axes[0, 0].set_title('Chart 1')\n",
    "\n",
    "\n",
    "sns.scatterplot(data=data1, x='x', y='y', ax=axes[0, 0])\n",
    "axes[0, 0].set_title('Histogram')\n",
    "\n",
    "sns.histplot(data=data2, x='a', kde=True, ax=axes[0, 1])\n",
    "axes[0, 1].set_title('Chart 2')\n",
    "\n",
    "sns.boxplot(data=data3, y='c', ax=axes[1, 0])\n",
    "axes[1, 0].set_title('Chart 3')\n",
    "\n",
    "sns.lineplot(data=data4, x='e', y='f', ax=axes[1, 1])\n",
    "axes[1, 1].set_title('Chart 4')\n",
    "\n",
    "plt.tight_layout() # Adjust subplot parameters for a tight layout\n",
    "plt.show()"
   ]
  },
  {
   "cell_type": "code",
   "execution_count": null,
   "id": "9e1b8569-e86f-49f1-8a6a-4a0afed16514",
   "metadata": {},
   "outputs": [],
   "source": []
  },
  {
   "cell_type": "code",
   "execution_count": null,
   "id": "2d5cee49-c8c9-476e-b5dc-793a2843493b",
   "metadata": {},
   "outputs": [],
   "source": []
  }
 ],
 "metadata": {
  "kernelspec": {
   "display_name": "Python (.venv - useful-pandas-code)",
   "language": "python",
   "name": "useful-pandas-code"
  },
  "language_info": {
   "codemirror_mode": {
    "name": "ipython",
    "version": 3
   },
   "file_extension": ".py",
   "mimetype": "text/x-python",
   "name": "python",
   "nbconvert_exporter": "python",
   "pygments_lexer": "ipython3",
   "version": "3.10.12"
  }
 },
 "nbformat": 4,
 "nbformat_minor": 5
}
